{
 "cells": [
  {
   "cell_type": "markdown",
   "metadata": {},
   "source": [
    "# Assignment 7 Solutions"
   ]
  },
  {
   "cell_type": "code",
   "execution_count": 2,
   "metadata": {},
   "outputs": [],
   "source": [
    "import numpy as np\n",
    "import pandas as pd\n",
    "import matplotlib.pyplot as plt\n",
    "import statsmodels.formula.api as sm\n",
    "from statsmodels.stats.anova import anova_lm\n",
    "import scipy.stats as stats\n",
    "from sklearn.linear_model import LinearRegression\n",
    "\n",
    "def linear_regression(sumx,sumy,sumxy,sumx2,n):\n",
    "    b0 = (sumx2*sumy-sumx*sumxy)/(n*sumx2-sumx**2)\n",
    "    b1 = (n*sumxy-sumx*sumy)/(n*sumx2-sumx**2)\n",
    "    return b0,b1\n",
    "\n",
    "def sigma_regression_summary_stats(sumx,sumy,sumxy,sumx2,sumy2,n,b0,b1):\n",
    "    t1 = n*b0*b0\n",
    "    t2 = 2*b0*b1*sumx\n",
    "    t3 = b1**2*sumx2\n",
    "    t4 = -2.0*b0*sumy\n",
    "    t5 = -2.0*b1*sumxy\n",
    "    t6 = sumy2\n",
    "    v_error = n - 2\n",
    "\n",
    "    sigma = np.sqrt(1.0/v_error*(t1+t2+t3+t4+t5+t6))\n",
    "\n",
    "    return float(sigma)"
   ]
  },
  {
   "cell_type": "markdown",
   "metadata": {},
   "source": [
    "## Question 1\n",
    "\n",
    "An article on estimating 28-day strength of concrete considered regressing y = 28-day standard-cured strength (psi) against x = accelerated strength (psi). Suppose the equation of the true regression line is y = 1789 + 0.7x.\n",
    "\n",
    "(a) What is the expected value of 28-day strength when accelerated strength = 2445? \n",
    "\n",
    "(b) By how much can we expect 28-day strength to change when accelerated strength increases by 1 psi? \n",
    "\n",
    "(c) Answer part (b) for an increase of 108 psi. (Give answer accurate to 1 decimal place.)\n",
    "\n",
    "(d) Answer part (b) for a decrease of 108 psi. (Give answer accurate to 1 decimal place.) "
   ]
  },
  {
   "cell_type": "code",
   "execution_count": 18,
   "metadata": {},
   "outputs": [
    {
     "name": "stdout",
     "output_type": "stream",
     "text": [
      "a) expected = 3793.0000\n",
      "\n",
      "b) delta = 0.8000\n",
      "\n",
      "c) delta = 80.0000\n",
      "\n",
      "d) delta = -80.0000\n"
     ]
    }
   ],
   "source": [
    "yint = 1797\n",
    "slope = 0.8\n",
    "print(\"a) expected = %0.4f\" % (1797 + 0.8*2495))\n",
    "\n",
    "dx = 1\n",
    "delta = slope * dx\n",
    "print(\"\\nb) delta = %0.4f\" % delta)\n",
    "\n",
    "dx = 100\n",
    "delta = slope * dx\n",
    "print(\"\\nc) delta = %0.4f\" % delta)\n",
    "\n",
    "dx = -100\n",
    "delta = slope * dx\n",
    "print(\"\\nd) delta = %0.4f\" % delta)"
   ]
  },
  {
   "cell_type": "markdown",
   "metadata": {},
   "source": [
    "## Question 2\n",
    "\n",
    "Suppose that in a certain chemical process the reaction time y (hr) is related to the temperature (°F) in the chamber in which the reaction takes place according to the simple linear regression model with equation y = 4.7 – 0.016x and σ = 0.085.\n",
    "\n",
    "(a) What is the expected change in reaction time for a 1°F increase in temperature?\n",
    "\n",
    "What is the expected change in reaction time for a 6°F increase in temperature? (Give answer accurate to 3 decimal places.)\n",
    " \n",
    "\n",
    "(b) What is the expected reaction time when temperature is 170°F? (Give answer accurate to 2 decimal places.) \n",
    "\n",
    "What is the expected reaction time when temperature is 190°F? (Give answer accurate to 2 decimal places.)\n",
    "\n",
    "(c) Suppose five observations are made independently on reaction time, each one for a temperature of 190°F. What is the probability that all five times are between 1.48 and 1.84 hours? (Give answer accurate to 3 decimal places.) \n",
    "\n",
    "(d) What is the probability that two independently observed reaction times for temperatures 1° apart are such that the time at the higher temperature exceeds the time at the lower temperature? (Give answer accurate to 3 decimal places.)"
   ]
  },
  {
   "cell_type": "code",
   "execution_count": 53,
   "metadata": {},
   "outputs": [
    {
     "name": "stdout",
     "output_type": "stream",
     "text": [
      "a) delta = -0.0170\n",
      "delta = -0.221\n",
      "\n",
      "b) expected = 2.04\n",
      "expected = 1.70\n",
      "\n",
      "c) expected = 1.700\n",
      "0.9352941176470593\n",
      "1.0647058823529416\n",
      "0.9377664109121912\n"
     ]
    }
   ],
   "source": [
    "slope = -0.017\n",
    "yint = 5.1\n",
    "sigma = 0.069\n",
    "\n",
    "dx = 1\n",
    "delta = slope * dx\n",
    "print(\"a) delta = %0.4f\" % delta)\n",
    "\n",
    "dx = 13\n",
    "delta = slope * dx\n",
    "print(\"delta = %0.3f\" % delta)\n",
    "\n",
    "print(\"\\nb) expected = %0.2f\" % (slope*180 + yint))\n",
    "print(\"expected = %0.2f\" % (slope*200 + yint))\n",
    "\n",
    "expected200 = slope * 200 + yint\n",
    "print(\"\\nc) expected = %0.3f\" % (expected200))\n",
    "print(1.59 / expected200)\n",
    "print(1.81 / expected200)\n",
    "variance200 = 0.069 * expected200\n",
    "expected_low = expected200 - variance200\n",
    "expected_high = expected200 + variance200\n",
    "print((1.81 - 1.59) / (expected_high - expected_low))"
   ]
  },
  {
   "cell_type": "markdown",
   "metadata": {},
   "source": [
    "## Question 3\n",
    "\n",
    "The accompanying data on x = current density (mA/cm$^2$) and y = rate of deposition (µm/min) appeared in the article \"Plating of 60/40 Tin/Lead Solder for Head Termination Metallurgy\" (Plating and Surface Finishing, Jan. 1997: 38-40). Do you agree with the claim by the article's author that \"a linear relationship was obtained from the tin-lead rate of deposition as a function of current density\"? (Give answer accurate to 3 decimal places.)\n",
    "\n",
    "x\t20\t40\t60\t80\n",
    "y  \t  0.24  \t  1.20  \t  1.71  \t  2.22  \n",
    "\n",
    "$r^2$ = \n",
    "\n",
    "Explain your reasoning."
   ]
  },
  {
   "cell_type": "code",
   "execution_count": 27,
   "metadata": {},
   "outputs": [
    {
     "data": {
      "image/png": "[encoded data removed]",
      "text/plain": [
       "<Figure size 432x288 with 1 Axes>"
      ]
     },
     "metadata": {
      "needs_background": "light"
     },
     "output_type": "display_data"
    }
   ],
   "source": [
    "x = np.array([20, 40, 60, 80])\n",
    "y = np.array([0.24, 1.20, 1.71, 2.22])\n",
    "\n",
    "df = pd.DataFrame({'x':x, 'y':y})\n",
    "\n",
    "df.plot('x', 'y', style='o')\n",
    "plt.ylabel('Y')\n",
    "plt.show()"
   ]
  },
  {
   "cell_type": "code",
   "execution_count": 29,
   "metadata": {},
   "outputs": [
    {
     "name": "stdout",
     "output_type": "stream",
     "text": [
      "                            OLS Regression Results                            \n",
      "==============================================================================\n",
      "Dep. Variable:                      y   R-squared:                       0.972\n",
      "Model:                            OLS   Adj. R-squared:                  0.957\n",
      "Method:                 Least Squares   F-statistic:                     68.48\n",
      "Date:                Sun, 13 Dec 2020   Prob (F-statistic):             0.0143\n",
      "Time:                        01:02:39   Log-Likelihood:                 2.6988\n",
      "No. Observations:                   4   AIC:                            -1.398\n",
      "Df Residuals:                       2   BIC:                            -2.625\n",
      "Df Model:                           1                                         \n",
      "Covariance Type:            nonrobust                                         \n",
      "==============================================================================\n",
      "                 coef    std err          t      P>|t|      [0.025      0.975]\n",
      "------------------------------------------------------------------------------\n",
      "Intercept     -0.2700      0.213     -1.265      0.333      -1.188       0.648\n",
      "x              0.0323      0.004      8.275      0.014       0.015       0.049\n",
      "==============================================================================\n",
      "Omnibus:                          nan   Durbin-Watson:                   2.233\n",
      "Prob(Omnibus):                    nan   Jarque-Bera (JB):                0.428\n",
      "Skew:                           0.365   Prob(JB):                        0.807\n",
      "Kurtosis:                       1.573   Cond. No.                         134.\n",
      "==============================================================================\n",
      "\n",
      "Notes:\n",
      "[1] Standard Errors assume that the covariance matrix of the errors is correctly specified.\n",
      "0.9716237519705728\n"
     ]
    },
    {
     "name": "stderr",
     "output_type": "stream",
     "text": [
      "C:\\Users\\clbis\\anaconda3\\lib\\site-packages\\statsmodels\\stats\\stattools.py:74: ValueWarning: omni_normtest is not valid with less than 8 observations; 4 samples were given.\n",
      "  warn(\"omni_normtest is not valid with less than 8 observations; %i \"\n"
     ]
    }
   ],
   "source": [
    "result = sm.ols('y ~ x', df).fit()\n",
    "print(result.summary())\n",
    "\n",
    "r2 = result.rsquared\n",
    "r2_reduced = result.rsquared_adj\n",
    "print(r2)\n",
    "\n",
    "#A very high value of r2 confirms the author's claim"
   ]
  },
  {
   "cell_type": "markdown",
   "metadata": {},
   "source": [
    "## Question 4\n",
    "\n",
    "A scatter plot along with the least squares line of x = rainfall volume (m3) and y = runoff volume (m3) were given for a particular location. The accompanying values were read from the plot.\n",
    "\n",
    "(a) Does a scatter plot of the data support the use of the simple linear regression model? \n",
    "\n",
    "(b) Calculate point estimates of the slope and intercept of the population regression line. (Give answers accurate to 3 decimal places.)\n",
    "\n",
    "(c) Calculate a point estimate of the true average runoff volume when rainfall volume is 50. (Give answer accurate to 2 decimal places.) \n",
    "\n",
    "(d) Calculate a point estimate of the standard deviation σ. (Give answer accurate to 2 decimal places.) \n",
    "\n",
    "(e) What proportion of the observed variation in runoff volume can be attributed to the simple linear regression relationship between runoff and rainfall? (Give answer accurate to 4 decimal places.)"
   ]
  },
  {
   "cell_type": "code",
   "execution_count": 31,
   "metadata": {},
   "outputs": [
    {
     "data": {
      "image/png": "[encoded data removed]",
      "text/plain": [
       "<Figure size 432x288 with 1 Axes>"
      ]
     },
     "metadata": {
      "needs_background": "light"
     },
     "output_type": "display_data"
    }
   ],
   "source": [
    "x = np.array([4,12,14,19,23,30,40,51,55,67,72,85,96,112,130])\n",
    "y = np.array([5,10,13,14,15,25,27,48,38,46,53,67,82,99,101])\n",
    "\n",
    "df = pd.DataFrame({'x':x, 'y':y})\n",
    "\n",
    "df.plot('x', 'y', style='o')\n",
    "plt.ylabel('Y')\n",
    "plt.show()"
   ]
  },
  {
   "cell_type": "code",
   "execution_count": 32,
   "metadata": {},
   "outputs": [
    {
     "name": "stdout",
     "output_type": "stream",
     "text": [
      "                            OLS Regression Results                            \n",
      "==============================================================================\n",
      "Dep. Variable:                      y   R-squared:                       0.977\n",
      "Model:                            OLS   Adj. R-squared:                  0.975\n",
      "Method:                 Least Squares   F-statistic:                     551.3\n",
      "Date:                Sun, 13 Dec 2020   Prob (F-statistic):           4.98e-12\n",
      "Time:                        01:05:07   Log-Likelihood:                -44.503\n",
      "No. Observations:                  15   AIC:                             93.01\n",
      "Df Residuals:                      13   BIC:                             94.42\n",
      "Df Model:                           1                                         \n",
      "Covariance Type:            nonrobust                                         \n",
      "==============================================================================\n",
      "                 coef    std err          t      P>|t|      [0.025      0.975]\n",
      "------------------------------------------------------------------------------\n",
      "Intercept     -1.1233      2.283     -0.492      0.631      -6.055       3.808\n",
      "x              0.8146      0.035     23.480      0.000       0.740       0.890\n",
      "==============================================================================\n",
      "Omnibus:                        0.745   Durbin-Watson:                   1.905\n",
      "Prob(Omnibus):                  0.689   Jarque-Bera (JB):                0.709\n",
      "Skew:                           0.291   Prob(JB):                        0.702\n",
      "Kurtosis:                       2.108   Cond. No.                         115.\n",
      "==============================================================================\n",
      "\n",
      "Notes:\n",
      "[1] Standard Errors assume that the covariance matrix of the errors is correctly specified.\n",
      "b) yint = -1.123, slope = 0.815\n",
      "\n",
      "c) y_prediction = 39.61\n",
      "\n",
      "d1) sigma = 5.06\n",
      "d2) sigma2 = 4.88\n",
      "\n",
      "e) r^2 = 0.9770\n",
      "\n",
      "Webassign part d) sigma =  5.050500167461672\n"
     ]
    },
    {
     "name": "stderr",
     "output_type": "stream",
     "text": [
      "C:\\Users\\clbis\\anaconda3\\lib\\site-packages\\scipy\\stats\\stats.py:1603: UserWarning: kurtosistest only valid for n>=20 ... continuing anyway, n=15\n",
      "  warnings.warn(\"kurtosistest only valid for n>=20 ... continuing \"\n"
     ]
    }
   ],
   "source": [
    "result = sm.ols('y ~ x', df).fit()\n",
    "print(result.summary())\n",
    "\n",
    "r2 = result.rsquared\n",
    "r2_reduced = result.rsquared_adj\n",
    "yint = result.params[0]\n",
    "slope = result.params[1]\n",
    "print(\"b) yint = %0.3f, slope = %0.3f\" % (yint, slope))\n",
    "\n",
    "x_prediction = 50\n",
    "y_prediction = slope * x_prediction + yint\n",
    "print()\n",
    "print(\"c) y_prediction = %0.2f\" % y_prediction)\n",
    "\n",
    "N_model = 2\n",
    "v_model = N_model - 1\n",
    "\n",
    "N = len(x)\n",
    "v_total = N - 1\n",
    "v_error = v_total - v_model\n",
    "\n",
    "SS_total = (N - 1) * y.var()\n",
    "\n",
    "SS_model = r2_reduced * SS_total\n",
    "SS_model2 = r2 * SS_total\n",
    "\n",
    "SS_error = SS_total - SS_model\n",
    "SS_error2 = SS_total - SS_model2\n",
    "\n",
    "MS_error = SS_error / v_error\n",
    "sigma = np.sqrt(MS_error)\n",
    "\n",
    "MS_error2 = SS_error2 / v_error\n",
    "sigma2 = np.sqrt(MS_error2)\n",
    "\n",
    "print()\n",
    "print(\"d1) sigma = %0.2f\" % sigma)\n",
    "print(\"d2) sigma2 = %0.2f\" % sigma2)\n",
    "\n",
    "print()\n",
    "print(\"e) r^2 = %0.4f\" % r2)\n",
    "\n",
    "sumx = x.sum()\n",
    "sumy = y.sum()\n",
    "xy = x * y\n",
    "x2 = x * x\n",
    "y2 = y * y\n",
    "sumxy = xy.sum()\n",
    "sumx2 = x2.sum()\n",
    "sumy2 = y2.sum()\n",
    "n = len(x)\n",
    "\n",
    "b0, b1 = linear_regression(sumx, sumy, sumxy, sumx2, n)\n",
    "\n",
    "sigma = sigma_regression_summary_stats(sumx, sumy, sumxy, sumx2, sumy2, n, b0, b1)\n",
    "\n",
    "print(\"\\nWebassign part d) sigma = \", sigma)"
   ]
  },
  {
   "cell_type": "markdown",
   "metadata": {},
   "source": [
    "## Question 5\n",
    "\n",
    "The following summary statistics were obtained from a study that used regression analysis to investigate the relationship between pavement deflection and surface temperature of the pavement at various locations on a state highway. Here x = temperature (°F) and y = deflection adjustment factor (y ≥ 0).\n",
    "n = 17       Σxi = 1448.6       Σyi = 10.57\n",
    "Σxi 2 = 147414.45       Σxiyi = 987.536\n",
    "Σyi 2 = 7.8653\n",
    "\n",
    "(a) Compute eta hat1, eta hat0, and the equation of the estimated regression line. Graph the estimated line. (Do this on paper. Your instructor may ask you to turn in this work. Give answers accurate to 4 decimal places.)\n",
    "y^^\\^ =    seenKey 0.3131\t+    seenKey 0.0036  x\n",
    "\n",
    "(b) What is the estimate of expected change in the deflection adjustment factor when temperature is increased by 1°F? (Give answer accurate to 4 decimal places.) \n",
    "   seenKey 0.0036  \n",
    "\n",
    "(c) Suppose temperature were measured in °C rather than in °F. What would be the estimated regression line? Answer part (b) for an increase of 1°C. [Hint: °F = (9/5)°C + 32; now substitute for the \"old x\" in terms of the \"new x.\"] (Give answers accurate to 4 decimal places.)\n",
    "y^^\\^ =    seenKey 0.4290\t+    seenKey 0.0065  x\n",
    "\n",
    "(d) If a 200°F surface temperature were within the realm of possibility, would you use the estimated line of part (a) to predict deflection factor for this temperature? Why or why not? \n"
   ]
  },
  {
   "cell_type": "code",
   "execution_count": 45,
   "metadata": {},
   "outputs": [
    {
     "name": "stdout",
     "output_type": "stream",
     "text": [
      "0.21944597804428886 0.004632920260656318\n",
      "sigma =  0.2590893276173649\n",
      "\n",
      "b) delta = 0.0046\n",
      "\n",
      "c) y = 0.3677 + 0.0083 x\n",
      "80.82222222222222\n",
      "\n",
      "d) y_prediction = 1.1460\n"
     ]
    }
   ],
   "source": [
    "sumx = 1454.8\n",
    "sumy = 10.69\n",
    "sumx2 = 139225.36\n",
    "sumxy = 964.27\n",
    "sumy2 = 7.8873\n",
    "n = 18\n",
    "\n",
    "yint, slope = linear_regression(sumx,sumy,sumxy,sumx2,n)\n",
    "print(yint, slope)\n",
    "\n",
    "sigma = sigma_regression_summary_stats(sumx, sumy, sumxy, sumx2, sumy2, n, yint, slope)\n",
    "print(\"sigma = \", sigma)\n",
    "\n",
    "dx = 1\n",
    "delta = slope * dx\n",
    "print(\"\\nb) delta = %0.4f\" % delta)\n",
    "\n",
    "yintF = yint + 32 * slope\n",
    "slopeF = slope * 9/5\n",
    "print(\"\\nc) y = %0.4f + %0.4f x\" % (yintF, slopeF))\n",
    "\n",
    "print(sumx / n)\n",
    "y_prediction = yint + 200.0 * slope\n",
    "print(\"\\nd) y_prediction = %0.4f\" % y_prediction)"
   ]
  },
  {
   "cell_type": "markdown",
   "metadata": {},
   "source": [
    "## Question 6\n",
    "\n",
    "The following data is representative of that reported in an article on nitrogen emissions, with x = burner area liberation rate (MBtu/hr-ft2) and y = NOx emission rate (ppm).\n",
    "x\t  100\t125\t125\t150\t150\t200\t200\t250\t250\t300\t300\t350\t400\t400\n",
    "y    \t  140  \t130  \t170  \t220  \t190  \t300  \t270  \t390  \t420  \t440  \t400  \t590  \t600  \t650  \n",
    "(a) Assuming that the simple linear regression model is valid, obtain the least squares estimate of the true regression line. (Give answers accurate to 2 decimal places.)\n",
    "y^^\\^ =    seenKey -49.35  +    seenKey 1.70  x\n",
    "\n",
    "(b) What is the estimate of expected NOx emission rate when burner area liberation rate equals 250? (Give answer accurate to 1 decimal place.)\n",
    "\n",
    "(c) Estimate the amount by which you expect NOx emission rate to change when burner area liberation rate is decreased by 60. (Give answer accurate to 1 decimal place.) \n",
    "\n",
    "(d) Would you use the estimated regression line to predict emission rate for a liberation rate of 500? Why or why not?"
   ]
  },
  {
   "cell_type": "code",
   "execution_count": 35,
   "metadata": {},
   "outputs": [
    {
     "data": {
      "image/png": "[encoded data removed]",
      "text/plain": [
       "<Figure size 432x288 with 1 Axes>"
      ]
     },
     "metadata": {
      "needs_background": "light"
     },
     "output_type": "display_data"
    }
   ],
   "source": [
    "x = np.array([100,125,125,150,150,200,200,250,250,300,300,350,400,400])\n",
    "y = np.array([150,130,180,200,200,320,290,410,430,430,390,620,620,650])\n",
    "\n",
    "df = pd.DataFrame({'x':x, 'y':y})\n",
    "\n",
    "df.plot('x', 'y', style='o')\n",
    "plt.ylabel('Y')\n",
    "plt.show()"
   ]
  },
  {
   "cell_type": "code",
   "execution_count": 42,
   "metadata": {},
   "outputs": [
    {
     "name": "stdout",
     "output_type": "stream",
     "text": [
      "                            OLS Regression Results                            \n",
      "==============================================================================\n",
      "Dep. Variable:                      y   R-squared:                       0.956\n",
      "Model:                            OLS   Adj. R-squared:                  0.952\n",
      "Method:                 Least Squares   F-statistic:                     260.5\n",
      "Date:                Sun, 13 Dec 2020   Prob (F-statistic):           1.68e-09\n",
      "Time:                        01:20:07   Log-Likelihood:                -70.163\n",
      "No. Observations:                  14   AIC:                             144.3\n",
      "Df Residuals:                      12   BIC:                             145.6\n",
      "Df Model:                           1                                         \n",
      "Covariance Type:            nonrobust                                         \n",
      "==============================================================================\n",
      "                 coef    std err          t      P>|t|      [0.025      0.975]\n",
      "------------------------------------------------------------------------------\n",
      "Intercept    -46.3863     27.196     -1.706      0.114    -105.641      12.868\n",
      "x              1.7180      0.106     16.139      0.000       1.486       1.950\n",
      "==============================================================================\n",
      "Omnibus:                        0.530   Durbin-Watson:                   2.632\n",
      "Prob(Omnibus):                  0.767   Jarque-Bera (JB):                0.225\n",
      "Skew:                          -0.289   Prob(JB):                        0.894\n",
      "Kurtosis:                       2.773   Cond. No.                         662.\n",
      "==============================================================================\n",
      "\n",
      "Notes:\n",
      "[1] Standard Errors assume that the covariance matrix of the errors is correctly specified.\n",
      "a) yint = -46.386, slope = 1.718\n",
      "\n",
      "b) y_prediction = 314.8\n",
      "\n",
      "c) delta = -103.1\n"
     ]
    },
    {
     "name": "stderr",
     "output_type": "stream",
     "text": [
      "C:\\Users\\clbis\\anaconda3\\lib\\site-packages\\scipy\\stats\\stats.py:1603: UserWarning: kurtosistest only valid for n>=20 ... continuing anyway, n=14\n",
      "  warnings.warn(\"kurtosistest only valid for n>=20 ... continuing \"\n"
     ]
    }
   ],
   "source": [
    "result = sm.ols('y ~ x', df).fit()\n",
    "print(result.summary())\n",
    "\n",
    "r2 = result.rsquared\n",
    "r2_reduced = result.rsquared_adj\n",
    "yint = result.params[0]\n",
    "slope = result.params[1]\n",
    "print(\"a) yint = %0.3f, slope = %0.3f\" % (yint, slope))\n",
    "\n",
    "x_prediction = 210\n",
    "y_prediction = 1.72 * x_prediction + -46.39\n",
    "print(\"\\nb) y_prediction = %0.1f\" % y_prediction)\n",
    "\n",
    "dx = -60\n",
    "delta = slope * dx\n",
    "print(\"\\nc) delta = %0.1f\" % delta)"
   ]
  },
  {
   "cell_type": "code",
   "execution_count": null,
   "metadata": {},
   "outputs": [],
   "source": []
  }
 ],
 "metadata": {
  "kernelspec": {
   "display_name": "Python 3",
   "language": "python",
   "name": "python3"
  },
  "language_info": {
   "codemirror_mode": {
    "name": "ipython",
    "version": 3
   },
   "file_extension": ".py",
   "mimetype": "text/x-python",
   "name": "python",
   "nbconvert_exporter": "python",
   "pygments_lexer": "ipython3",
   "version": "3.8.5"
  }
 },
 "nbformat": 4,
 "nbformat_minor": 2
}
