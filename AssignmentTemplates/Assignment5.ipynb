{
 "cells": [
  {
   "cell_type": "markdown",
   "metadata": {},
   "source": [
    "# Assignment 5 Solutions"
   ]
  },
  {
   "cell_type": "code",
   "execution_count": 5,
   "metadata": {},
   "outputs": [],
   "source": [
    "import numpy as np\n",
    "import scipy.stats as stats\n",
    "import matplotlib.pyplot as plt"
   ]
  },
  {
   "cell_type": "markdown",
   "metadata": {},
   "source": [
    "# Question 1\n",
    "\n",
    "In an experiment to compare the tensile strengths of I = 4 different types of copper wire, J = 3 samples of each type were used. The between-samples and within-samples estimates of σ2 were computed as MSTr = 2679.5 and MSE = 1098.2, respectively.\n",
    "\n",
    "(a) Use the F test at level .05 to test Ho: μ1 = μ2 = . . . = μ4 versus Ha: at least two μi's are unequal. (Give answers accurate to 2 decimal places.)\n",
    "\n",
    "(b) What can be said about the P-value for the test?"
   ]
  },
  {
   "cell_type": "code",
   "execution_count": 12,
   "metadata": {},
   "outputs": [
    {
     "name": "stdout",
     "output_type": "stream",
     "text": [
      "F statistic = 2.450\n",
      "Critical f-value = 2.62\n",
      "Pvalue = 0.063\n"
     ]
    }
   ],
   "source": [
    "a = 6\n",
    "n = 5\n",
    "\n",
    "N = a*n\n",
    "dof_total = N - 1\n",
    "dof_treatment = a - 1\n",
    "dof_error = dof_total - dof_treatment\n",
    "\n",
    "MS_treatment = 2673.6\n",
    "MS_error = 1091.4\n",
    "\n",
    "fvalue = MS_treatment / MS_error\n",
    "print (\"F statistic = %0.3f\" % fvalue)\n",
    "\n",
    "alpha = 0.05\n",
    "\n",
    "fdist = stats.f(dof_treatment, dof_error)\n",
    "fhigh = fdist.ppf(1 - alpha)\n",
    "\n",
    "print(\"Critical f-value = %0.2f\" % (fhigh))\n",
    "\n",
    "if (fvalue > 1):\n",
    "    pvalue = 1 - fdist.cdf(fvalue)\n",
    "else:\n",
    "    pvalue = fdist.cdf(fvalue)\n",
    "\n",
    "print(\"Pvalue = %0.3f\" % pvalue)\n",
    "\n",
    "# Fail to reject H0. The data indicates there is not a difference in the mean tensile strengths."
   ]
  },
  {
   "cell_type": "markdown",
   "metadata": {},
   "source": [
    "# Question 2\n",
    "\n",
    "An article describes an experiment in which several types of boxes were compared with respect to compression strength (lb). The table below presents the results of a single-factor ANOVA experiment involving I = 4 types of boxes.\n",
    "\n",
    "Type of Box  \tCompression Strength (lb) \n",
    "1 655.5   788.3   734.3  721.4  679.1  699.4  \n",
    "\n",
    "2\n",
    "789.2\n",
    "772.5\n",
    "786.9\n",
    "686.1\n",
    "732.1\n",
    "774.8\n",
    "\n",
    "3\n",
    "737.1\n",
    "639.0\n",
    "696.3\n",
    "671.7\n",
    "717.2\n",
    "727.1\n",
    "\n",
    "4\n",
    "535.1\n",
    "628.7\n",
    "542.4\n",
    "559.0\n",
    "586.9\n",
    "520.0\n",
    "\n",
    "Suppose that the compression strength observations on the fourth type of box had been 645.1, 738.7, 652.4, 669.0, 696.9, 630.0 (obtained by adding 110 to each previous x4j). Assuming no change in the remaining observations, carry out an F test with α = .05. (Give F to 2 decimal places and the p-value to 3 decimal places.)"
   ]
  },
  {
   "cell_type": "code",
   "execution_count": 13,
   "metadata": {},
   "outputs": [
    {
     "name": "stdout",
     "output_type": "stream",
     "text": [
      "[[655.5   1. ]\n",
      " [788.3   1. ]\n",
      " [734.3   1. ]\n",
      " [721.4   1. ]\n",
      " [679.1   1. ]\n",
      " [699.4   1. ]\n",
      " [789.2   2. ]\n",
      " [772.5   2. ]\n",
      " [786.9   2. ]\n",
      " [686.1   2. ]\n",
      " [732.1   2. ]\n",
      " [774.8   2. ]\n",
      " [737.1   3. ]\n",
      " [639.    3. ]\n",
      " [696.3   3. ]\n",
      " [671.7   3. ]\n",
      " [717.2   3. ]\n",
      " [727.1   3. ]\n",
      " [730.1   4. ]\n",
      " [823.7   4. ]\n",
      " [737.4   4. ]\n",
      " [754.    4. ]\n",
      " [781.9   4. ]\n",
      " [715.    4. ]]\n"
     ]
    },
    {
     "ename": "ModuleNotFoundError",
     "evalue": "No module named 'pandas'",
     "output_type": "error",
     "traceback": [
      "\u001b[1;31m---------------------------------------------------------------------------\u001b[0m",
      "\u001b[1;31mModuleNotFoundError\u001b[0m                       Traceback (most recent call last)",
      "\u001b[1;32m<ipython-input-13-63944418eaea>\u001b[0m in \u001b[0;36m<module>\u001b[1;34m()\u001b[0m\n\u001b[0;32m     19\u001b[0m \u001b[0mprint\u001b[0m \u001b[1;33m(\u001b[0m\u001b[0mdata2\u001b[0m\u001b[1;33m)\u001b[0m\u001b[1;33m\u001b[0m\u001b[1;33m\u001b[0m\u001b[0m\n\u001b[0;32m     20\u001b[0m \u001b[1;33m\u001b[0m\u001b[0m\n\u001b[1;32m---> 21\u001b[1;33m \u001b[1;32mimport\u001b[0m \u001b[0mpandas\u001b[0m \u001b[1;32mas\u001b[0m \u001b[0mpd\u001b[0m\u001b[1;33m\u001b[0m\u001b[1;33m\u001b[0m\u001b[0m\n\u001b[0m\u001b[0;32m     22\u001b[0m \u001b[1;33m\u001b[0m\u001b[0m\n\u001b[0;32m     23\u001b[0m \u001b[0mdf\u001b[0m \u001b[1;33m=\u001b[0m \u001b[0mpd\u001b[0m\u001b[1;33m.\u001b[0m\u001b[0mDataFrame\u001b[0m\u001b[1;33m(\u001b[0m\u001b[0mdata2\u001b[0m\u001b[1;33m,\u001b[0m\u001b[0mcolumns\u001b[0m\u001b[1;33m=\u001b[0m\u001b[1;33m[\u001b[0m\u001b[1;34m'value'\u001b[0m\u001b[1;33m,\u001b[0m\u001b[1;34m'treatment'\u001b[0m\u001b[1;33m]\u001b[0m\u001b[1;33m)\u001b[0m\u001b[1;33m\u001b[0m\u001b[1;33m\u001b[0m\u001b[0m\n",
      "\u001b[1;31mModuleNotFoundError\u001b[0m: No module named 'pandas'"
     ]
    }
   ],
   "source": [
    "groupA = np.array([655.5,788.3,734.3,721.4,679.1,699.4])\n",
    "groupB = np.array([789.2,772.5,786.9,686.1,732.1,774.8])\n",
    "groupC = np.array([737.1,639.0,696.3,671.7,717.2,727.1])\n",
    "groupD = np.array([730.1,823.7,737.4,754.0,781.9,715.0])\n",
    "\n",
    "a = 4\n",
    "n = 6\n",
    "\n",
    "idA = np.ones(n)\n",
    "idB = 2.0*np.ones(n)\n",
    "idC = 3.0*np.ones(n)\n",
    "idD = 4.0*np.ones(n)\n",
    "\n",
    "data = np.concatenate([groupA,groupB,groupC,groupD])\n",
    "id = np.concatenate([idA,idB,idC,idD])\n",
    "\n",
    "data2 = np.transpose(np.vstack((data,id)))\n",
    "\n",
    "print (data2)\n",
    "\n",
    "import pandas as pd\n",
    "\n",
    "df = pd.DataFrame(data2,columns=['value','treatment'])\n",
    "\n",
    "df.head(100)"
   ]
  },
  {
   "cell_type": "code",
   "execution_count": 4,
   "metadata": {},
   "outputs": [
    {
     "name": "stdout",
     "output_type": "stream",
     "text": [
      "                df        sum_sq      mean_sq         F    PR(>F)\n",
      "C(treatment)   3.0  22781.254583  7593.751528  4.488169  0.014517\n",
      "Residual      20.0  33838.975000  1691.948750       NaN       NaN\n"
     ]
    }
   ],
   "source": [
    "from statsmodels.formula.api import ols\n",
    "from statsmodels.stats.anova import anova_lm\n",
    "\n",
    "model = ols('value ~ C(treatment)',df).fit()\n",
    "anovaResults = anova_lm(model)\n",
    "\n",
    "print (anovaResults)"
   ]
  },
  {
   "cell_type": "markdown",
   "metadata": {},
   "source": [
    "# Question 3\n",
    "\n",
    "The lumen output was determined for each of I = 3 different brands of 60-watt soft-white lightbulbs, with J = 9 bulbs of each brand tested. The sums of squares were computed as SSE = 4775.3 and SSTr = 594.4. State the hypotheses of interest (including word definitions of parameters).\n",
    "\n",
    "Use the F test of ANOVA (α = .05) to decide whether there are any differences in true average lumen outputs among the three brands for this type of bulb by obtaining as much information as possible about the P-value. (Give answers accurate to 2 decimal places.)"
   ]
  },
  {
   "cell_type": "code",
   "execution_count": null,
   "metadata": {},
   "outputs": [],
   "source": []
  },
  {
   "cell_type": "markdown",
   "metadata": {},
   "source": [
    "# Question 4\n",
    "\n",
    "In a study to assess the effects of malaria infection on mosquito hosts, mosquitos were fed on either infective or noninfective rhesus monkeys. Subsequently the distance they flew during a 24-hour period was measured using a flight mill. The mosquitos were divided into four groups of eight mosquitos each: infective rhesus and sporozites present (IRS), infective rhesus and oocysts present (IRD), infective rhesus and no infection developed (IRN), and noninfective (C). The summary data values are x1. = 4.28 (IRS), x2. = 4.81 (IRD), x3. = 5.39 (IRN), x4. = 5.88 (C), x.. = 5.09, ΣΣxij 2 = 955.6192. Use the ANOVA F test at level .05 to decide whether there are any differences between true average flight times for the four treatments. (Give answers accurate to 2 decimal places.)"
   ]
  },
  {
   "cell_type": "markdown",
   "metadata": {},
   "source": [
    "This question involves the use of summary statistics, which is very typically when looking at published papers. Rather than giving all of the raw data, they give the averages of each group, the number of groups and the number of samples within each group, and one extra quantity - $\\sum_i \\sum_j {x_{ij}^2}$.\n",
    "\n",
    "With these quantities, we can find all of the necessary quantities for carrying out \n",
    "a typical one-way ANOVA!\n",
    "\n",
    "$SS_{total} = \\sum_{i=1}^{a} \\sum_{j=1}^{n} {(x_{ij}-\\bar{\\bar{x}})^2}$\n",
    "\n",
    "\n",
    "$SS_{total} = \\sum_{i=1}^{a} \\sum_{j=1}^{n} {(x_{ij}^2-2x_{ij}\\bar{\\bar{x}} + \\bar{\\bar{x}}^2)}$\n",
    "\n",
    "$SS_{total} = \\sum_{i=1}^{a} \\sum_{j=1}^{n} {x_{ij}^2} -2\\bar{\\bar{x}}\\sum_{i=1}^{a} \\sum_{j=1}^{n} {x_{ij}} + \\bar{\\bar{x}}^2 \\sum_{i=1}^{a} \\sum_{j=1}^{n} {1}$\n",
    "\n",
    "From here, we know that:\n",
    "\n",
    "$\\sum_{i=1}^{a} \\sum_{j=1}^{n} {1} = N$\n",
    "\n",
    "and\n",
    "\n",
    "$\\sum_{j=1}^{n} {x_{ij}} = N \\bar{\\bar{x}}$\n",
    "\n",
    "and therefore:\n",
    "\n",
    "$SS_{total} = \\sum_{i=1}^{a} \\sum_{j=1}^{n} {x_{ij}^2} - N \\bar{\\bar{x}}^2$\n",
    "\n",
    "We also know that:\n",
    "\n",
    "$SS_{treatment} = \\sum_{i=1}^{a} n(\\bar{x}_i - \\bar{\\bar{x}})^2$\n",
    "\n",
    "and\n",
    "\n",
    "$SS_{error} = SS_{total} - SS_{treatment}$"
   ]
  },
  {
   "cell_type": "code",
   "execution_count": 5,
   "metadata": {},
   "outputs": [],
   "source": [
    "# summary data for xbar\n",
    "xbar = np.array([4.28,4.81,5.39,5.88])\n",
    "xbarbar = xbar.mean()\n",
    "\n",
    "# calculate SS_treatment\n",
    "SS_treatment = 0.0\n",
    "for x in xbar:\n",
    "    SS_treatment += n*(x-xbarbar)**2\n",
    "    \n",
    "# calculate SS_total and SS_error\n",
    "sumxij2 = 955.6192\n",
    "SS_total = sumxij2-N*xbarbar**2\n",
    "SS_error = SS_total-SS_treatment"
   ]
  },
  {
   "cell_type": "markdown",
   "metadata": {},
   "source": [
    "# Question 5\n",
    "\n",
    "The following data was reported on total Fe for four types of iron formation (1 = carbonate, 2 = silicate, 3 = magnetite, 4 = hematite).\n",
    "\n",
    "1:\n",
    "20.3\n",
    "28.1\n",
    "27.8\n",
    "27.0\n",
    "27.7\n",
    "25.2\n",
    "25.3\n",
    "27.1\n",
    "20.5\n",
    "31.2\n",
    "\n",
    "2:\n",
    "26.9\n",
    "24.0\n",
    "26.2\n",
    "20.2\n",
    "24.3\n",
    "34.0\n",
    "17.1\n",
    "26.8\n",
    "23.7\n",
    "25.0\n",
    "\n",
    "3:\n",
    "29.7\n",
    "34.0\n",
    "27.5\n",
    "29.4\n",
    "27.5\n",
    "26.2\n",
    "29.9\n",
    "29.5\n",
    "30.0\n",
    "35.7\n",
    "\n",
    "4:\n",
    "36.3\n",
    "44.2\n",
    "34.1\n",
    "30.3\n",
    "31.2\n",
    "33.1\n",
    "34.1\n",
    "32.9\n",
    "36.3\n",
    "25.1\n",
    "\n",
    "Carry out an analysis of variance F test at significance level .01, and summarize the results in an ANOVA table. (Give answers accurate to 1 decimal place.)"
   ]
  },
  {
   "cell_type": "code",
   "execution_count": null,
   "metadata": {},
   "outputs": [],
   "source": []
  },
  {
   "cell_type": "markdown",
   "metadata": {},
   "source": [
    "# Question 6\n",
    "\n",
    "A study of the properties of metal plate-connected trusses used for roof support yielded the following observations on axial stiffness index (kips/in.) for plate lengths 4, 6, 8, 10, and 12 in.\n",
    "\n",
    "4:\n",
    "342.3\n",
    "409.5\n",
    "311.0\n",
    "326.5\n",
    "316.8\n",
    "349.8\n",
    "309.7\n",
    "\n",
    "6:\n",
    "350.4\n",
    "347.2\n",
    "361.0\n",
    "404.5\n",
    "331.0\n",
    "348.9\n",
    "381.7\n",
    "\n",
    "8:\n",
    "384.0\n",
    "366.2\n",
    "351.0\n",
    "357.1\n",
    "409.9\n",
    "367.3\n",
    "382.0\n",
    "\n",
    "10:\n",
    "404.4\n",
    "452.9\n",
    "461.4\n",
    "433.1\n",
    "410.6\n",
    "384.2\n",
    "362.6\n",
    "\n",
    "12:\n",
    "454.0\n",
    "441.8\n",
    "419.9\n",
    "410.7\n",
    "473.4\n",
    "441.2\n",
    "465.8\n",
    "\n",
    "Does variation in plate length have any effect on true average axial stiffness? State and test the relevant hypotheses using analysis of variance with α = .01. Display your results in an ANOVA table. (Round answers to whole numbers and F to 2 decimal places)"
   ]
  },
  {
   "cell_type": "code",
   "execution_count": null,
   "metadata": {},
   "outputs": [],
   "source": []
  },
  {
   "cell_type": "markdown",
   "metadata": {},
   "source": [
    "# Question 7\n",
    "\n",
    "In an experiment to investigate the performance of four different brands of spark plugs intended for use on a 125-cc two-stroke motorcycle, five plugs of each brand were tested and the number of miles (at a constant speed) until failure was observed. The partial ANOVA table for the data is given here. Fill in the missing entries, state the relevant hypotheses, and carry out a test by obtaining as much information as you can about the P-value. (Use α = 0.05.)"
   ]
  },
  {
   "cell_type": "code",
   "execution_count": null,
   "metadata": {},
   "outputs": [],
   "source": []
  },
  {
   "cell_type": "markdown",
   "metadata": {},
   "source": [
    "# Question 8\n",
    "\n",
    "Six samples of each of four types of cereal grain grown in a certain region were analyzed to determine thiamin content, resulting in the following data (μg/g).\n",
    "\n",
    "Wheat\t  6.5  \t  6.1  \t  5.5  \t  5.9  \t  6.3  \t  5.4 \n",
    "\n",
    "Barley  \t7.6\t7.9\t7.6\t7.9\t7.0\t6.0\n",
    "\n",
    "Maize\t6.3\t5.9\t4.9\t4.9\t4.9\t5.5\n",
    "\n",
    "Oats\t7.9\t8.2\t6.0\t6.6\t8.0\t6.7\n",
    "\n",
    "Does this data suggest that at least two of the grains differ with respect to true average thiamin content? Use a level α = .05 test based on the P-value method. (Give F to 2 decimal places and the P-value to 3 decimal places.)"
   ]
  },
  {
   "cell_type": "code",
   "execution_count": null,
   "metadata": {},
   "outputs": [],
   "source": []
  },
  {
   "cell_type": "markdown",
   "metadata": {},
   "source": [
    "# Question 9\n",
    "\n",
    "An experiment to compare the spreading rates of five different brands of yellow interior latex paint available in a particular area used 4 gallons (J = 4) of each paint. The sample average spreading rates (ft2/gal) for the five brands were x1. = 462.0, x2. = 512.8, x3. = 437.5, x4. = 469.3, and x5. = 532.1. The computer value of F was found to be significant at level α = .05. With MSE = 272.8, use Tukey's procedure to investigate significant differences between brands. (Give answer accurate to 1 decimal place.)\n",
    "\n",
    "Python statsmodels has a package for performing Tukey's HSD test, but it requires the RAW data!  So, we are going to have to do this by hand for this question using the summary data instead."
   ]
  },
  {
   "cell_type": "code",
   "execution_count": 6,
   "metadata": {},
   "outputs": [
    {
     "name": "stdout",
     "output_type": "stream",
     "text": [
      "28\n",
      "F Signal/Noise = 6.43 \n",
      "Critical f-value = 2.95\n",
      "Pvalue = 0.002\n"
     ]
    }
   ],
   "source": [
    "a = 4\n",
    "n = 8\n",
    "\n",
    "# calculate DOF's\n",
    "N = a * n\n",
    "dof_total = N - 1\n",
    "dof_treatment = a - 1\n",
    "dof_error = dof_total - dof_treatment\n",
    "print(dof_error)\n",
    "\n",
    "# summary data for xbar\n",
    "xbar = np.array([4.39, 4.52, 5.49, 6.36])\n",
    "xbarbar = xbar.mean()\n",
    "\n",
    "# calculate SS_treatment\n",
    "SS_treatment = 0.0\n",
    "for x in xbar:\n",
    "    SS_treatment += n * (x - xbarbar)**2\n",
    "    \n",
    "MS_treatment = SS_treatment / dof_treatment\n",
    "\n",
    "sumij2 = 911.91\n",
    "\n",
    "SS_total = sumij2 - N * xbarbar**2\n",
    "SS_error = SS_total - SS_treatment\n",
    "MS_error = SS_error / dof_error\n",
    "\n",
    "fSN = MS_treatment / MS_error\n",
    "print(\"F Signal/Noise = %0.2f \" % fSN)\n",
    "\n",
    "alpha = 0.05\n",
    "\n",
    "fdist = stats.f(dof_treatment, dof_error)\n",
    "fhigh = fdist.ppf(1 - alpha)\n",
    "\n",
    "print(\"Critical f-value = %0.2f\" % (fhigh))\n",
    "\n",
    "if (fSN > 1):\n",
    "    pvalue = 1 - fdist.cdf(fSN)\n",
    "else:\n",
    "    pvalue = fdist.cdf(fSN)\n",
    "\n",
    "print(\"Pvalue = %0.3f\" % pvalue)"
   ]
  },
  {
   "cell_type": "code",
   "execution_count": 6,
   "metadata": {},
   "outputs": [
    {
     "ename": "ModuleNotFoundError",
     "evalue": "No module named 'q_tukey'",
     "output_type": "error",
     "traceback": [
      "\u001b[0;31m---------------------------------------------------------------------------\u001b[0m",
      "\u001b[0;31mModuleNotFoundError\u001b[0m                       Traceback (most recent call last)",
      "\u001b[0;32m<ipython-input-6-c3408a8f90d9>\u001b[0m in \u001b[0;36m<module>\u001b[0;34m\u001b[0m\n\u001b[1;32m      3\u001b[0m \u001b[0;31m# Step 1:  Calculate the standard error = sqrt(MS_error/n)\u001b[0m\u001b[0;34m\u001b[0m\u001b[0;34m\u001b[0m\u001b[0;34m\u001b[0m\u001b[0m\n\u001b[1;32m      4\u001b[0m \u001b[0;34m\u001b[0m\u001b[0m\n\u001b[0;32m----> 5\u001b[0;31m \u001b[0;32mfrom\u001b[0m \u001b[0mq_tukey\u001b[0m \u001b[0;32mimport\u001b[0m \u001b[0mq_tukey\u001b[0m\u001b[0;34m\u001b[0m\u001b[0;34m\u001b[0m\u001b[0m\n\u001b[0m\u001b[1;32m      6\u001b[0m \u001b[0;34m\u001b[0m\u001b[0m\n\u001b[1;32m      7\u001b[0m \u001b[0mstd_error\u001b[0m \u001b[0;34m=\u001b[0m \u001b[0mnp\u001b[0m\u001b[0;34m.\u001b[0m\u001b[0msqrt\u001b[0m\u001b[0;34m(\u001b[0m\u001b[0mMS_error\u001b[0m\u001b[0;34m/\u001b[0m\u001b[0mn\u001b[0m\u001b[0;34m)\u001b[0m\u001b[0;34m\u001b[0m\u001b[0;34m\u001b[0m\u001b[0m\n",
      "\u001b[0;31mModuleNotFoundError\u001b[0m: No module named 'q_tukey'"
     ]
    }
   ],
   "source": [
    "# Tukey's Procedure\n",
    "#\n",
    "# Step 1:  Calculate the standard error = sqrt(MS_error/n)\n",
    "\n",
    "from q_tukey import q_tukey\n",
    "\n",
    "std_error = np.sqrt(MS_error/n)\n",
    "print (\"Standard Error = %0.3f\" % std_error)\n",
    "\n",
    "# Step 2:  Order the means from smallest to largest\n",
    "\n",
    "print (\"Original Xbar = \",xbar)\n",
    "xbar_orig = xbar.copy()\n",
    "xbar.sort()\n",
    "print (\"Sorted Xbar = \",xbar)\n",
    "\n",
    "# Step 3:  Get the expected number of error bars (sem) between largest and smallest, for the number\n",
    "# of means to be compared (a).  For this, we need the studentized range table values q(alpha,dof_error,k) for k=2..a.\n",
    "# \n",
    "# http://www.real-statistics.com/statistics-tables/studentized-range-q-table/\n",
    "# For this problem, dof_error = 15, alpha = 0.05, k = 2,3,4,5\n",
    "# q = np.array([3.014,3.673,4.076,4.367])\n",
    "\n",
    "n_means=len(xbar)\n",
    "q = q_tukey(n_means,dof_error,alpha)\n",
    "print (q)\n",
    "\n",
    "# Step 4:  Calculate W = q(k=5)*std_error\n",
    "\n",
    "W = q[n_means-2]*std_error\n",
    "\n",
    "print (\"W = %0.1f\" % W)\n",
    "\n",
    "# Step 5:  Make pair-wise comparisons\n",
    "\n",
    "print (list(xbar_orig))\n",
    "\n",
    "print (\"i j xbar1 xbar2 Diff Diff_comp Result\")\n",
    "for i in range(len(xbar)):\n",
    "    for j in range(len(xbar)):\n",
    "        if (xbar[j] > xbar[i]):\n",
    "            diff = (xbar[j] - xbar[i])/std_error\n",
    "            diff_comp = q[j-i-1]\n",
    "            if (diff>diff_comp):\n",
    "                Result = \"Yes\"\n",
    "            else:\n",
    "                Result = \"No\"\n",
    "            iorig = list(xbar_orig).index(xbar[i])+1\n",
    "            jorig = list(xbar_orig).index(xbar[j])+1\n",
    "            print (\"%0.0f %0.0f %0.1f %0.1f %0.3f  %0.3f %s\" % (iorig,jorig,xbar[i],xbar[j],diff,diff_comp,Result))"
   ]
  },
  {
   "cell_type": "markdown",
   "metadata": {},
   "source": [
    "# Question 10\n",
    "\n",
    "In a study to assess the effects of malaria infection on mosquito hosts, mosquitos were fed on either infective or noninfective rhesus monkeys. Subsequently the distance they flew during a 24-hour period was measured using a flight mill. The mosquitos were divided into four groups of eight mosquitos each: infective rhesus and sporozites present (IRS), infective rhesus and oocysts present (IRD), infective rhesus and no infection developed (IRN), and noninfective (C). The summary data values are x1. = 4.39 (IRS), x2. = 4.52 (IRD), x3. = 5.49 (IRN), x4. = 6.36 (C), x.. = 5.19, ΣΣx2ij = 911.91. Use Tukey's procedure to identify differences in true average flight times among the four types of mosquitos. (Give answer accurate to 1 decimal place. Use α = 0.05.)\n",
    "\n",
    "In this question, we have a similar situation to Question 9.  We have only the summary statistics to work from, and so must perform Tukey's HSD test through direct calculations."
   ]
  },
  {
   "cell_type": "code",
   "execution_count": null,
   "metadata": {},
   "outputs": [],
   "source": []
  },
  {
   "cell_type": "code",
   "execution_count": null,
   "metadata": {},
   "outputs": [],
   "source": []
  },
  {
   "cell_type": "code",
   "execution_count": null,
   "metadata": {},
   "outputs": [],
   "source": []
  }
 ],
 "metadata": {
  "kernelspec": {
   "display_name": "Python 3",
   "language": "python",
   "name": "python3"
  },
  "language_info": {
   "codemirror_mode": {
    "name": "ipython",
    "version": 3
   },
   "file_extension": ".py",
   "mimetype": "text/x-python",
   "name": "python",
   "nbconvert_exporter": "python",
   "pygments_lexer": "ipython3",
   "version": "3.7.8"
  }
 },
 "nbformat": 4,
 "nbformat_minor": 2
}
