{
 "cells": [
  {
   "cell_type": "code",
   "execution_count": 8,
   "metadata": {},
   "outputs": [],
   "source": [
    "import numpy as np\n",
    "import scipy.stats as stats"
   ]
  },
  {
   "cell_type": "markdown",
   "metadata": {},
   "source": [
    "One of the classic methods for measuring the acceleration due to gravity to to use a simple pendulum. One measures the period, T, of the oscillations of the pendulum, which consists of mass, m, suspended from a cable of length, l. If the oscillations are small (less than a few degrees), then the period of oscillation is given by: \n",
    "T = 2 π sqrt(l/g)\n",
    " \n",
    ". Suppose that you hang a cat, with a mass of 3.70 +/- 0.40 kg from a cable whose length is measured to be 9.64 +/- 0.01 m. The experiment is performed, and you measure the time for 100 oscillations of the pendulum. The TOTAL time for these 100 oscillations is measured to be 627.8 +/- 0.3 s."
   ]
  },
  {
   "cell_type": "markdown",
   "metadata": {},
   "source": [
    "(a) What is the average value for the period of oscillation of the pendulum?"
   ]
  },
  {
   "cell_type": "code",
   "execution_count": 21,
   "metadata": {},
   "outputs": [
    {
     "name": "stdout",
     "output_type": "stream",
     "text": [
      "(a) 6.278\n"
     ]
    }
   ],
   "source": [
    "total_time = 627.8\n",
    "time_uncertainty = 0.3\n",
    "n = 100\n",
    "cat_mass = 3.7\n",
    "cat_mass_uncertainty = 0.4\n",
    "cable_length = 9.64\n",
    "cable_length_uncertainty = 0.01\n",
    "\n",
    "avg_oscillation = total_time / n\n",
    "\n",
    "print(\"(a)\", avg_oscillation)"
   ]
  },
  {
   "cell_type": "markdown",
   "metadata": {},
   "source": [
    "(b) What is the uncertainty in the average value of the period of oscillation of the pendulum?"
   ]
  },
  {
   "cell_type": "code",
   "execution_count": 28,
   "metadata": {},
   "outputs": [
    {
     "name": "stdout",
     "output_type": "stream",
     "text": [
      "(b) 0.003\n"
     ]
    }
   ],
   "source": [
    "avg_time_uncertainty = time_uncertainty / n\n",
    "\n",
    "print(\"(b)\", avg_time_uncertainty)"
   ]
  },
  {
   "cell_type": "markdown",
   "metadata": {},
   "source": [
    "(c) What is the average value of the acceleration due to gravity, as measured in this experiment?"
   ]
  },
  {
   "cell_type": "code",
   "execution_count": 26,
   "metadata": {},
   "outputs": [
    {
     "name": "stdout",
     "output_type": "stream",
     "text": [
      "(c) 9.655930871073968\n"
     ]
    }
   ],
   "source": [
    "# T / 2 = pi sqrt(l / g)\n",
    "# T / (2pi) = sqrt(l / g)\n",
    "# (T / (2pi))**2 = l / g\n",
    "# l = ( (T / (2pi))**2 ) * g\n",
    "# l / ( (T / (2pi))**2 ) = g\n",
    "# l / ( (T / 2pi) (T / 2pi) ) = g\n",
    "# l / ( T**2 / (2pi)**2 ) = g\n",
    "# l * ( (2pi)**2 / T**2 ) = g\n",
    "# l * 4 * pi**2 / T**2 = g\n",
    "\n",
    "g = cable_length / ( (avg_oscillation / (2 * np.pi))** 2 )\n",
    "g = 4 * np.pi ** 2 * cable_length / avg_oscillation ** 2\n",
    "\n",
    "print(\"(c)\", g)"
   ]
  },
  {
   "cell_type": "markdown",
   "metadata": {},
   "source": [
    "(d) Assuming that the uncertainties quoted above follow a uniform error distribution, what is the measured uncertainty in the acceleration due to gravity?"
   ]
  },
  {
   "cell_type": "code",
   "execution_count": 61,
   "metadata": {},
   "outputs": [
    {
     "name": "stdout",
     "output_type": "stream",
     "text": [
      "(d) 0.019244876425298353\n"
     ]
    }
   ],
   "source": [
    "dgdl = 4 * np.pi ** 2 / avg_oscillation ** 2\n",
    "dgdT = 8 * np.pi ** 2 * cable_length / avg_oscillation ** 3   # abs value\n",
    "dg = dgdl * cable_length_uncertainty + dgdT * avg_time_uncertainty\n",
    "\n",
    "print(\"(d)\", dg)"
   ]
  },
  {
   "cell_type": "markdown",
   "metadata": {},
   "source": [
    "(e) Assuming that the uncertainties quoted above follow a Gaussian error distribution, what is the measured uncertainty in the acceleration due to gravity?\n"
   ]
  },
  {
   "cell_type": "code",
   "execution_count": 62,
   "metadata": {},
   "outputs": [
    {
     "name": "stdout",
     "output_type": "stream",
     "text": [
      "(e) 0.013619590462466339\n"
     ]
    }
   ],
   "source": [
    "dg_gauss = np.sqrt((dgdl * cable_length_uncertainty)**2 + (dgdT * avg_time_uncertainty)**2)\n",
    "\n",
    "print(\"(e)\", dg_gauss)"
   ]
  },
  {
   "cell_type": "markdown",
   "metadata": {},
   "source": [
    "When circuit boards used in the manufacture of compact disc players are tested, the long-run percentage of defectives is 5%. Let X = the number of defective boards in a random sample of size n = 25, so P(X) ~ BINOMDIST(X,25,0.05,0).\n"
   ]
  },
  {
   "cell_type": "markdown",
   "metadata": {},
   "source": [
    "(a) Determine P(X <= 2)."
   ]
  },
  {
   "cell_type": "code",
   "execution_count": 12,
   "metadata": {},
   "outputs": [
    {
     "name": "stdout",
     "output_type": "stream",
     "text": [
      "(a) 0.8728935043390676\n"
     ]
    }
   ],
   "source": [
    "x_lte_a = 2\n",
    "n = 25\n",
    "p = 0.05\n",
    "\n",
    "probability_a = stats.binom.cdf(x_lte_a, n, p)\n",
    "\n",
    "print(\"(a)\", probability_a)"
   ]
  },
  {
   "cell_type": "markdown",
   "metadata": {},
   "source": [
    "(b) Determine P(X >= 5)."
   ]
  },
  {
   "cell_type": "code",
   "execution_count": 13,
   "metadata": {},
   "outputs": [
    {
     "name": "stdout",
     "output_type": "stream",
     "text": [
      "(b) 0.007164947902586594\n"
     ]
    }
   ],
   "source": [
    "x_gte_b = 5\n",
    "\n",
    "probability_b = 1 - stats.binom.cdf(x_gte_b - 1, n, p)\n",
    "\n",
    "print(\"(b)\", probability_b)"
   ]
  },
  {
   "cell_type": "markdown",
   "metadata": {},
   "source": [
    "(c) Determine P(1 <= X <= 4)."
   ]
  },
  {
   "cell_type": "code",
   "execution_count": 14,
   "metadata": {},
   "outputs": [
    {
     "name": "stdout",
     "output_type": "stream",
     "text": [
      "(c) 0.7154454789755796\n"
     ]
    }
   ],
   "source": [
    "x_gte_c = 1\n",
    "x_lte_c = 4\n",
    "\n",
    "probability_c = stats.binom.cdf(x_lte_c, n, p) - stats.binom.cdf(x_gte_c - 1, n, p)\n",
    "\n",
    "print(\"(c)\", probability_c)"
   ]
  },
  {
   "cell_type": "markdown",
   "metadata": {},
   "source": [
    "(d) What is the probability that none of the 25 boards is defective?"
   ]
  },
  {
   "cell_type": "code",
   "execution_count": 15,
   "metadata": {},
   "outputs": [
    {
     "name": "stdout",
     "output_type": "stream",
     "text": [
      "(d) 0.27738957312183404\n"
     ]
    }
   ],
   "source": [
    "x = 0\n",
    "\n",
    "probability_d = stats.binom.pmf(x, n, p)\n",
    "\n",
    "print(\"(d)\", probability_d)"
   ]
  },
  {
   "cell_type": "markdown",
   "metadata": {},
   "source": [
    "(e) Calculate the expected value and standard deviation of X."
   ]
  },
  {
   "cell_type": "code",
   "execution_count": 11,
   "metadata": {},
   "outputs": [
    {
     "name": "stdout",
     "output_type": "stream",
     "text": [
      "(e) expected 1.25 standard deviation 1.0897247358851685\n"
     ]
    }
   ],
   "source": [
    "expected = n * p\n",
    "sd = np.sqrt( expected * (1 - p) )\n",
    "\n",
    "print(\"(e)\", \"expected\", expected, \"standard deviation\", sd)"
   ]
  },
  {
   "cell_type": "markdown",
   "metadata": {},
   "source": [
    "There are two machines available for cutting corks intended for use in wine bottles. Measurements of 25 corks from the first machine indicates that it produces corks with diameters that are distributed with a sample mean 3.02 cm and sample standard deviation 0.08 cm. Measurements of 30 corks from the second machine reveals that it produces corks with diameters that have a distribution with sample mean 3.05 cm and sample standard deviation 0.04 cm. Acceptable corks have diameters between 2.9 cm and 3.1 cm.\n"
   ]
  },
  {
   "cell_type": "markdown",
   "metadata": {},
   "source": [
    "What is the uncertainty in the true mean cork diameter for the first machine? (Round your answer to four decimal places.)\n"
   ]
  },
  {
   "cell_type": "code",
   "execution_count": 52,
   "metadata": {},
   "outputs": [
    {
     "name": "stdout",
     "output_type": "stream",
     "text": [
      "(a) 0.016\n"
     ]
    }
   ],
   "source": [
    "n1 = 25\n",
    "mean1 = 3.02\n",
    "sd1 = 0.08\n",
    "\n",
    "uncertainty1 = sd1 / np.sqrt(n1)\n",
    "print(\"(a)\", uncertainty1)"
   ]
  },
  {
   "cell_type": "markdown",
   "metadata": {},
   "source": [
    "What is the uncertainty in the true mean cork diameter for the second machine? (Round your answer to four decimal places.)\n"
   ]
  },
  {
   "cell_type": "code",
   "execution_count": 36,
   "metadata": {},
   "outputs": [
    {
     "name": "stdout",
     "output_type": "stream",
     "text": [
      "(b) 0.007302967433402215\n"
     ]
    }
   ],
   "source": [
    "n2 = 30\n",
    "mean2 = 3.05\n",
    "sd2 = 0.04\n",
    "\n",
    "uncertainty2 = sd2 / np.sqrt(n2)\n",
    "print(\"(b)\", uncertainty2)"
   ]
  },
  {
   "cell_type": "markdown",
   "metadata": {},
   "source": [
    "What is the probability that the first machine will produce an acceptable cork? (Round your answer to four decimal places.)"
   ]
  },
  {
   "cell_type": "code",
   "execution_count": 54,
   "metadata": {},
   "outputs": [
    {
     "name": "stdout",
     "output_type": "stream",
     "text": [
      "(a) 0.7630\n"
     ]
    }
   ],
   "source": [
    "ndof1 = n1 - 1\n",
    "prob1 = stats.t.cdf(3.1, ndof1, loc=mean1, scale=sd1) - stats.t.cdf(2.9, ndof1, loc=mean1, scale=sd1)\n",
    "\n",
    "print(\"(a) %0.4f\" % prob1)"
   ]
  },
  {
   "cell_type": "markdown",
   "metadata": {},
   "source": [
    "What is the probability that the second machine will produce an acceptable cork? (Round your answer to four decimal places.)"
   ]
  },
  {
   "cell_type": "code",
   "execution_count": 55,
   "metadata": {},
   "outputs": [
    {
     "name": "stdout",
     "output_type": "stream",
     "text": [
      "(a) 0.8890\n"
     ]
    }
   ],
   "source": [
    "ndof2 = n2 - 1\n",
    "prob1 = stats.t.cdf(3.1, ndof2, loc=mean2, scale=sd2) - stats.t.cdf(2.9, ndof2, loc=mean2, scale=sd2)\n",
    "\n",
    "print(\"(a) %0.4f\" % prob1)"
   ]
  },
  {
   "cell_type": "markdown",
   "metadata": {},
   "source": [
    "Based on an extensive series of experiments carried out over many years, it has been found that the true mean survival rate (μ) for cats dropped from the Trible Library is 95%, with a standard deviation (σ) of 2%. Recent meetings of the CNU administration have resulted in a report that states that in any future experiments, the mean survival rate must be greater than 89.0%, but at the same time must not be greater than 97.0%. The rationale for these limits is unclear. It is suspected that representatives from the Faculty of Arts and Humanities were involved. You have been assigned the job of supervisor of cat dropping experiments at CNU. Your job depends on making sure these limits are not violated. As such, you need to write protocols for future experiments, and the most important thing to decide is: How many cats must be dropped in each experiment? Because your job depends on it, you decide to set the Type-I error probability, α, at 0.001. Calculate the minimum value of N that will be required for you to keep your job.\n"
   ]
  },
  {
   "cell_type": "code",
   "execution_count": 89,
   "metadata": {},
   "outputs": [
    {
     "name": "stdout",
     "output_type": "stream",
     "text": [
      "101.58105346298385 88.41894653701621\n",
      "10.827566170662823\n"
     ]
    }
   ],
   "source": [
    "mu_true = 95\n",
    "sd = 2\n",
    "alpha = 0.001\n",
    "mean_range = 97 - 89\n",
    "\n",
    "z_upper = stats.norm.ppf(1-alpha/2, mu_true, sd)\n",
    "z_lower = stats.norm.ppf(alpha/2, mu_true, sd)\n",
    "print(z_upper, z_lower)\n",
    "\n",
    "N = (((z_upper - z_lower) / mean_range) ** 2) * (sd ** 2)\n",
    "print(N)"
   ]
  },
  {
   "cell_type": "code",
   "execution_count": null,
   "metadata": {},
   "outputs": [],
   "source": []
  }
 ],
 "metadata": {
  "kernelspec": {
   "display_name": "Python 3",
   "language": "python",
   "name": "python3"
  },
  "language_info": {
   "codemirror_mode": {
    "name": "ipython",
    "version": 3
   },
   "file_extension": ".py",
   "mimetype": "text/x-python",
   "name": "python",
   "nbconvert_exporter": "python",
   "pygments_lexer": "ipython3",
   "version": "3.8.5"
  }
 },
 "nbformat": 4,
 "nbformat_minor": 4
}
