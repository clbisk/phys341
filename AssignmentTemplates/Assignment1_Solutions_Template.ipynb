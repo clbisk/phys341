{
 "cells": [
  {
   "cell_type": "markdown",
   "metadata": {},
   "source": [
    "# Assignment 1 Solutions"
   ]
  },
  {
   "cell_type": "code",
   "execution_count": 4,
   "metadata": {},
   "outputs": [],
   "source": [
    "# Import the required packages, \n",
    "# with their conventional names \n",
    "import matplotlib.pyplot as plt \n",
    "import numpy as np \n",
    "import scipy.stats as stats"
   ]
  },
  {
   "cell_type": "markdown",
   "metadata": {},
   "source": [
    "# Question 1:  \n",
    "\n",
    "A cat is launched from the top of the Trible library with zero initial velocity, and lands, unharmed, on the ground below time later. The height of the Trible library is measured to be (21.2 +/- 0.4) m. The time is measured to be (2.04 +/- 0.05) s.\n",
    "\n",
    "(a) What is the measured value of the acceleration due to gravity, ignoring air resistance?\n",
    "\n",
    "(b) Assuming that the uncertainties quoted above follow a uniform error distribution, what is the measured uncertainty in the acceleration due to gravity?\n",
    "\n",
    "(c) Assuming that the uncertainties quoted above follow a Gaussian error distribution, what is the measured uncertainty in the acceleration due to gravity?"
   ]
  },
  {
   "cell_type": "code",
   "execution_count": 8,
   "metadata": {},
   "outputs": [
    {
     "name": "stdout",
     "output_type": "stream",
     "text": [
      "(a)  9.80296049406921\n"
     ]
    }
   ],
   "source": [
    "h = 20.0\n",
    "dh = 0.1\n",
    "t = 2.02\n",
    "dt = 0.01\n",
    "\n",
    "g = 2.0 * h / t**2\n",
    "\n",
    "print(\"(a)\", g)"
   ]
  },
  {
   "cell_type": "code",
   "execution_count": 9,
   "metadata": {},
   "outputs": [
    {
     "name": "stdout",
     "output_type": "stream",
     "text": [
      "(b)  0.14607381726311047\n"
     ]
    }
   ],
   "source": [
    "dgdh = np.abs(2.0 / t**2)\n",
    "dgdt = np.abs(-4.0 * h / t**3)\n",
    "dg_uniform = dgdh*dh + dgdt*dt\n",
    "\n",
    "print(\"(b)\", dg_uniform)"
   ]
  },
  {
   "cell_type": "code",
   "execution_count": 10,
   "metadata": {},
   "outputs": [
    {
     "name": "stdout",
     "output_type": "stream",
     "text": [
      "(c) 0.10873317439378428\n"
     ]
    }
   ],
   "source": [
    "dg_gauss = np.sqrt( (dgdh*dh)**2 + (dgdt*dt)**2 )\n",
    "\n",
    "print(\"(c)\", dg_gauss)"
   ]
  },
  {
   "cell_type": "markdown",
   "metadata": {},
   "source": [
    "# Question 2: \n",
    "\n",
    "Airlines sometimes overbook flights. Suppose that for a plane with 50 seats, 55 passengers have tickets. Define the random variable Y as the number of ticketed passengers who actually show up for the flight. The probability mass function of Y appears in the accompanying table.\n",
    "\n",
    "(a) What is the probability that the flight will accommodate all ticketed passengers who show up?\n",
    "\n",
    "(b) What is the probability that not all ticketed passengers who show up can be accommodated?\n",
    "\n",
    "(c) If you are the first person on the standby list (which means you will be the first one to get on the plane if there are any seats available after all ticketed passengers have been accommodated), what is the probability that you will be able to take the flight? \n",
    "\n",
    "What is this probability if you are the third person on the standby list?"
   ]
  },
  {
   "cell_type": "code",
   "execution_count": 118,
   "metadata": {},
   "outputs": [
    {
     "name": "stdout",
     "output_type": "stream",
     "text": [
      "(a) 0.83\n"
     ]
    }
   ],
   "source": [
    "p = dict([(45, 0.05), (46, 0.14), (47, 0.12), (48, 0.12), (49, 0.25), (50, 0.15), (51, 0.06), (52, 0.05), (53, 0.03), (54, 0.02), (55, 0.01)])\n",
    "\n",
    "probability_a = p.get(45) + p.get(46) + p.get(47) + p.get(48) + p.get(49) + p.get(50)\n",
    "\n",
    "print(\"(a)\", probability_a)"
   ]
  },
  {
   "cell_type": "code",
   "execution_count": 119,
   "metadata": {},
   "outputs": [
    {
     "name": "stdout",
     "output_type": "stream",
     "text": [
      "(b) 0.17\n"
     ]
    }
   ],
   "source": [
    "probability_b = p.get(51) + p.get(52) + p.get(53) + p.get(54) + p.get(55)\n",
    "\n",
    "print(\"(b)\", probability_b)"
   ]
  },
  {
   "cell_type": "code",
   "execution_count": 120,
   "metadata": {},
   "outputs": [
    {
     "name": "stdout",
     "output_type": "stream",
     "text": [
      "(c) 0.6799999999999999\n"
     ]
    }
   ],
   "source": [
    "probability_c = p.get(45) + p.get(46) + p.get(47) + p.get(48) + p.get(49)\n",
    "\n",
    "print(\"(c)\", probability_c)"
   ]
  },
  {
   "cell_type": "code",
   "execution_count": 122,
   "metadata": {},
   "outputs": [
    {
     "name": "stdout",
     "output_type": "stream",
     "text": [
      "(d) 0.31\n"
     ]
    }
   ],
   "source": [
    "probability_d = p.get(45) + p.get(46) + p.get(47)\n",
    "\n",
    "print(\"(d)\", probability_d)"
   ]
  },
  {
   "cell_type": "markdown",
   "metadata": {},
   "source": [
    "# Question 3: \n",
    "\n",
    "A mail-order company business has six telephone lines. Let X denote the number of lines in use at a specified time. Suppose the pmf of X is as given in the accompanying table.\n",
    "\n",
    "\n",
    "Calculate the probability of each of the following events.\n",
    "\n",
    "(a) {at most three lines are in use}\n",
    "\n",
    "(b) {fewer than three lines are in use}\n",
    "\n",
    "(c) {at least three lines are in use}\n",
    "\n",
    "(d) {between two and five lines, inclusive, are in use}\n",
    "\n",
    "(e) {between two and four lines, inclusive, are not in use}\n",
    "\n",
    "(f) {at least four lines are not in use}"
   ]
  },
  {
   "cell_type": "code",
   "execution_count": 132,
   "metadata": {},
   "outputs": [
    {
     "name": "stdout",
     "output_type": "stream",
     "text": [
      "(a) 0.7\n"
     ]
    }
   ],
   "source": [
    "p = dict([(0, 0.1), (1, 0.15), (2, 0.25), (3, 0.2), (4, 0.2), (5, 0.04), (6, 0.06)])\n",
    "\n",
    "probability_a = sum([x[1] for x in p.items() if x[0] <= 3])\n",
    "\n",
    "print(\"(a)\", probability_a)"
   ]
  },
  {
   "cell_type": "code",
   "execution_count": 125,
   "metadata": {},
   "outputs": [
    {
     "name": "stdout",
     "output_type": "stream",
     "text": [
      "(b) 0.5\n"
     ]
    }
   ],
   "source": [
    "probability_b = sum([x[1] for x in p.items() if x[0] < 3])\n",
    "\n",
    "print(\"(b)\", probability_b)"
   ]
  },
  {
   "cell_type": "code",
   "execution_count": 126,
   "metadata": {},
   "outputs": [
    {
     "name": "stdout",
     "output_type": "stream",
     "text": [
      "(c) 0.5\n"
     ]
    }
   ],
   "source": [
    "probability_c = sum([x[1] for x in p.items() if x[0] >= 3])\n",
    "\n",
    "print(\"(c)\", probability_c)"
   ]
  },
  {
   "cell_type": "code",
   "execution_count": 127,
   "metadata": {},
   "outputs": [
    {
     "name": "stdout",
     "output_type": "stream",
     "text": [
      "(d) 0.6900000000000001\n"
     ]
    }
   ],
   "source": [
    "probability_d = sum([x[1] for x in p.items() if x[0] >= 2 and x[0] <= 5])\n",
    "\n",
    "print(\"(d)\", probability_d)"
   ]
  },
  {
   "cell_type": "code",
   "execution_count": 134,
   "metadata": {},
   "outputs": [
    {
     "name": "stdout",
     "output_type": "stream",
     "text": [
      "(e) 0.65\n"
     ]
    }
   ],
   "source": [
    "# the probability between 2 and 4 not being in use is the same as between 2 and 4 being in use\n",
    "probability_e = sum([x[1] for x in p.items() if x[0] >= 2 and x[0] <= 4])\n",
    "\n",
    "print(\"(e)\", probability_e)"
   ]
  },
  {
   "cell_type": "code",
   "execution_count": 135,
   "metadata": {},
   "outputs": [
    {
     "name": "stdout",
     "output_type": "stream",
     "text": [
      "(f) 0.5\n"
     ]
    }
   ],
   "source": [
    "# the probability of at least 4 not being in use is the same as less than 2 being in use\n",
    "probability_f = sum([x[1] for x in p.items() if x[0] <= 2])\n",
    "\n",
    "print(\"(f)\", probability_f)"
   ]
  },
  {
   "cell_type": "markdown",
   "metadata": {},
   "source": [
    "# Question 4: \n",
    "\n",
    "Compute the following binomial probabilities directly from the formula for b(x; n, p).\n",
    "\n",
    "(a) b(3; 5, 0.48)\n",
    "\n",
    "(b) b(2; 7, 0.77)\n",
    "\n",
    "(c) P(3 <= X <= 5) when n = 9 and p = 0.76\n",
    "\n",
    "(d) P(1 <= X) when n = 12 and p = 0.14"
   ]
  },
  {
   "cell_type": "code",
   "execution_count": 17,
   "metadata": {},
   "outputs": [
    {
     "name": "stdout",
     "output_type": "stream",
     "text": [
      "(a) 0.15564962699999985\n"
     ]
    }
   ],
   "source": [
    "x_a = 1\n",
    "n_a = 9\n",
    "p_a = 0.3\n",
    "\n",
    "print(\"(a)\", stats.binom.pmf(x_a, n_a, p_a))"
   ]
  },
  {
   "cell_type": "code",
   "execution_count": 18,
   "metadata": {},
   "outputs": [
    {
     "name": "stdout",
     "output_type": "stream",
     "text": [
      "(b) 0.06481217491840005\n"
     ]
    }
   ],
   "source": [
    "x_b = 3\n",
    "n_b = 7\n",
    "p_b = 0.74\n",
    "\n",
    "print(\"(b)\", stats.binom.pmf(x_b, n_b, p_b))"
   ]
  },
  {
   "cell_type": "code",
   "execution_count": 19,
   "metadata": {},
   "outputs": [
    {
     "name": "stdout",
     "output_type": "stream",
     "text": [
      "(c) 0.2697431716007797\n"
     ]
    }
   ],
   "source": [
    "x_gte_c = 3\n",
    "x_lte_c = 5\n",
    "n_c = 8\n",
    "p_c = 0.77\n",
    "\n",
    "probability_c = stats.binom.cdf(x_lte_c, n_c, p_c) - stats.binom.cdf(x_gte_c - 1, n_c, p_c)\n",
    "\n",
    "print(\"(c)\", probability_c)"
   ]
  },
  {
   "cell_type": "code",
   "execution_count": 20,
   "metadata": {},
   "outputs": [
    {
     "name": "stdout",
     "output_type": "stream",
     "text": [
      "(d) 0.6881828007003381\n"
     ]
    }
   ],
   "source": [
    "x_gte_d = 1\n",
    "n_d = 10\n",
    "p_d = 0.11\n",
    "\n",
    "probability_d = 1 - stats.binom.cdf(x_gte_d - 1, n_d, p_d)\n",
    "\n",
    "print(\"(d)\", probability_d)"
   ]
  },
  {
   "cell_type": "markdown",
   "metadata": {},
   "source": [
    "# Question 5:\n",
    "\n",
    "When circuit boards used in the manufacture of compact disc players are tested, the long-run percentage of defectives is 10%. Let X = the number of defective boards in a random sample of size n = 25, so X ~ Bin(25, 0.10).\n",
    "\n",
    "(a) Determine P(X <= 2).\n",
    "\n",
    "(b) Determine P(X >= 5).\n",
    "\n",
    "(c) Determine P(1 <= X <= 4).\n",
    "\n",
    "(d) What is the probability that none of the 25 boards is defective?\n",
    "\n",
    "(e) Calculate the expected value and standard deviation of X."
   ]
  },
  {
   "cell_type": "code",
   "execution_count": 22,
   "metadata": {},
   "outputs": [
    {
     "name": "stdout",
     "output_type": "stream",
     "text": [
      "(a) 0.9980493231102612\n"
     ]
    }
   ],
   "source": [
    "x_lte_a = 2\n",
    "n = 25\n",
    "p = 0.01\n",
    "\n",
    "probability_a = stats.binom.cdf(x_lte_a, n, p)\n",
    "\n",
    "print(\"(a)\", probability_a)"
   ]
  },
  {
   "cell_type": "code",
   "execution_count": 23,
   "metadata": {},
   "outputs": [
    {
     "name": "stdout",
     "output_type": "stream",
     "text": [
      "(b) 4.495958469075134e-06\n"
     ]
    }
   ],
   "source": [
    "x_gte_b = 5\n",
    "\n",
    "probability_b = 1 - stats.binom.cdf(x_gte_b - 1, n, p)\n",
    "\n",
    "print(\"(b)\", probability_b)"
   ]
  },
  {
   "cell_type": "code",
   "execution_count": 24,
   "metadata": {},
   "outputs": [
    {
     "name": "stdout",
     "output_type": "stream",
     "text": [
      "(c) 0.22217414464238427\n"
     ]
    }
   ],
   "source": [
    "x_gte_c = 1\n",
    "x_lte_c = 4\n",
    "\n",
    "probability_c = stats.binom.cdf(x_lte_c, n, p) - stats.binom.cdf(x_gte_c - 1, n, p)\n",
    "\n",
    "print(\"(c)\", probability_c)"
   ]
  },
  {
   "cell_type": "code",
   "execution_count": 25,
   "metadata": {},
   "outputs": [
    {
     "name": "stdout",
     "output_type": "stream",
     "text": [
      "(d) 0.7778213593991468\n"
     ]
    }
   ],
   "source": [
    "x = 0\n",
    "\n",
    "probability_d = stats.binom.pmf(x, n, p)\n",
    "\n",
    "print(\"(d)\", probability_d)"
   ]
  },
  {
   "cell_type": "code",
   "execution_count": 26,
   "metadata": {},
   "outputs": [
    {
     "name": "stdout",
     "output_type": "stream",
     "text": [
      "(e) expected 0.25 standard deviation 0.49749371855331\n"
     ]
    }
   ],
   "source": [
    "expected = n * p\n",
    "sd = np.sqrt( expected * (1 - p) )\n",
    "\n",
    "print(\"(e)\", \"expected\", expected, \"standard deviation\", sd)"
   ]
  },
  {
   "cell_type": "markdown",
   "metadata": {},
   "source": [
    "# Question 6:\n",
    "\n",
    "An airport limousine can accommodate up to four passengers on any one trip. The company will accept a maximum of six reservations for a trip, and a passenger must have a reservation. From previous records, 15% of all those making reservations do not appear for the trip. Answer the following questions, assuming independence wherever appropriate.\n",
    "\n",
    "(a) If six reservations are made, what is the probability that at least one individual with a reservation cannot be accommodated on the trip?\n",
    "\n",
    "(b) If six reservations are made, what is the expected number of available places when the limousine departs?\n",
    "\n",
    "(c) Suppose the probability distribution of the number of reservations made is given in the accompanying table.\n",
    "\n",
    "Number of reservations    \t3      4\t 5\t   6\n",
    "\n",
    "Probability\t                0.08   0.25  0.35  0.32    \n",
    "\n",
    "Let X denote the number of passengers on a randomly selected trip. Obtain the probability mass function of X."
   ]
  },
  {
   "cell_type": "code",
   "execution_count": 145,
   "metadata": {
    "scrolled": true
   },
   "outputs": [
    {
     "name": "stdout",
     "output_type": "stream",
     "text": [
      "(a) 0.7764842968749999\n"
     ]
    }
   ],
   "source": [
    "# if at least one person can not go, that means at least 5 people showed up\n",
    "n = 6\n",
    "p = 0.15\n",
    "\n",
    "print(\"(a)\", 1 - stats.binom.cdf(4, n, 1 - p))"
   ]
  },
  {
   "cell_type": "code",
   "execution_count": 153,
   "metadata": {},
   "outputs": [
    {
     "name": "stdout",
     "output_type": "stream",
     "text": [
      "(b) expected 0.05363381250000006 seats to be available\n"
     ]
    }
   ],
   "source": [
    "expected = 1 * stats.binom.pmf(3, n, (1-p)) + 2 * stats.binom.pmf(2, n, (1-p)) + 3 * stats.binom.pmf(1, n, (1-p)) + 4 * stats.binom.pmf(0, n, (1-p))\n",
    "\n",
    "print(\"(b)\", \"expected\", expected, \"seats to be available\")"
   ]
  },
  {
   "cell_type": "code",
   "execution_count": 151,
   "metadata": {},
   "outputs": [
    {
     "name": "stdout",
     "output_type": "stream",
     "text": [
      "(c) 0.000426785625 0.008335726875 0.06068458125 0.20287619375000002 0.7276767124999999\n",
      "sum 0.9999999999999999\n"
     ]
    }
   ],
   "source": [
    "probability_dist = [0.0, 0.0, 0.0, 0.08, 0.25, 0.35, 0.32]\n",
    "# number of reservations becomes n, calculate likelihood of x for x from 0 to 6\n",
    "\n",
    "def prob_guests(x):\n",
    "    prob = 0.0\n",
    "    # for each number of reservations x until 6\n",
    "    for i in range(x, 7):\n",
    "        # chance that i - no_shows = x\n",
    "        # no_shows = i - x\n",
    "        no_shows = i - x\n",
    "        \n",
    "        prob += probability_dist[i] * stats.binom.pmf(no_shows, i, p)\n",
    "    \n",
    "    return prob\n",
    "\n",
    "print(\"(c)\", prob_guests(0), prob_guests(1), prob_guests(2), prob_guests(3), prob_guests(4) + prob_guests(5) + prob_guests(6))\n",
    "\n",
    "print(\"sum\",  prob_guests(0) + prob_guests(1) + prob_guests(2) + prob_guests(3) + prob_guests(4) + prob_guests(5) + prob_guests(6))"
   ]
  },
  {
   "cell_type": "markdown",
   "metadata": {},
   "source": [
    "# Question 7:\n",
    "\n",
    "Let X, the number of flaws on the surface of a randomly selected boiler of a certain type, have a Poisson distribution with parameter λ = 3. Compute the following probabilities.\n",
    "\n",
    "(a) P(X ≤ 8)\n",
    "\n",
    "(b) P(X = 8)\n",
    "\n",
    "(c) P(9 ≤ X)\n",
    "\n",
    "(d) P(5 ≤ X ≤ 8)\n",
    "\n",
    "(e) P(5 < X < 8)"
   ]
  },
  {
   "cell_type": "code",
   "execution_count": 100,
   "metadata": {},
   "outputs": [
    {
     "name": "stdout",
     "output_type": "stream",
     "text": [
      "(a) 0.9786365655120158\n"
     ]
    }
   ],
   "source": [
    "x_lte_a = 8\n",
    "mu = 4\n",
    "\n",
    "probability_a = stats.poisson.cdf(x_lte_a, mu)\n",
    "\n",
    "print(\"(a)\", probability_a)"
   ]
  },
  {
   "cell_type": "code",
   "execution_count": 101,
   "metadata": {},
   "outputs": [
    {
     "name": "stdout",
     "output_type": "stream",
     "text": [
      "(b) 0.029770181304863145\n"
     ]
    }
   ],
   "source": [
    "x_b = 8\n",
    "\n",
    "probability_b = stats.poisson.pmf(x_b, mu)\n",
    "\n",
    "print(\"(b)\", probability_b)"
   ]
  },
  {
   "cell_type": "code",
   "execution_count": 102,
   "metadata": {},
   "outputs": [
    {
     "name": "stdout",
     "output_type": "stream",
     "text": [
      "(c) 0.021363434487984168\n"
     ]
    }
   ],
   "source": [
    "x_gte_c = 9\n",
    "\n",
    "probability_c = 1 - stats.poisson.cdf(x_gte_c - 1, mu)\n",
    "\n",
    "print(\"(c)\", probability_c)"
   ]
  },
  {
   "cell_type": "code",
   "execution_count": 103,
   "metadata": {},
   "outputs": [
    {
     "name": "stdout",
     "output_type": "stream",
     "text": [
      "(d) 0.34979963033214245\n"
     ]
    }
   ],
   "source": [
    "x_lte_d = 8\n",
    "x_gte_d = 5\n",
    "\n",
    "probability_d = stats.poisson.cdf(x_lte_d, mu) - stats.poisson.cdf(x_gte_d - 1, mu)\n",
    "\n",
    "print(\"(d)\", probability_d)"
   ]
  },
  {
   "cell_type": "code",
   "execution_count": 104,
   "metadata": {},
   "outputs": [
    {
     "name": "stdout",
     "output_type": "stream",
     "text": [
      "(e) 0.16373599717674758\n"
     ]
    }
   ],
   "source": [
    "x_lt_e = 8\n",
    "x_gt_e = 5\n",
    "\n",
    "probability_e = stats.poisson.cdf(x_lt_e - 1, mu) - stats.poisson.cdf(x_gt_e, mu)\n",
    "\n",
    "print(\"(e)\", probability_e)"
   ]
  },
  {
   "cell_type": "markdown",
   "metadata": {},
   "source": [
    "# Question 8\n",
    "\n",
    "Consider writing onto a computer disk and then sending it through a certifier that counts the number of missing pulses. Suppose this number X has a Poisson distribution with parameter λ = 0.19.\n",
    "\n",
    "(a) What is the probability that a disk has exactly one missing pulse?\n",
    "\n",
    "(b) What is the probability that a disk has at least two missing pulses?\n",
    "\n",
    "(c) If two disks are independently selected, what is the probability that neither contains a missing pulse?"
   ]
  },
  {
   "cell_type": "code",
   "execution_count": 105,
   "metadata": {},
   "outputs": [
    {
     "name": "stdout",
     "output_type": "stream",
     "text": [
      "(a) 0.11415240601967298\n"
     ]
    }
   ],
   "source": [
    "x_a = 1\n",
    "mu = 0.13\n",
    "\n",
    "probability_a = stats.poisson.pmf(x_a, mu)\n",
    "\n",
    "print(\"(a)\", probability_a)"
   ]
  },
  {
   "cell_type": "code",
   "execution_count": 106,
   "metadata": {},
   "outputs": [
    {
     "name": "stdout",
     "output_type": "stream",
     "text": [
      "(b) 0.007752163059765671\n"
     ]
    }
   ],
   "source": [
    "x_gte_b = 2\n",
    "\n",
    "probability_b = 1 - stats.poisson.cdf(x_gte_b - 1, mu)\n",
    "\n",
    "print(\"(b)\", probability_b)"
   ]
  },
  {
   "cell_type": "code",
   "execution_count": 107,
   "metadata": {},
   "outputs": [
    {
     "name": "stdout",
     "output_type": "stream",
     "text": [
      "(c) 0.7710515858035663\n"
     ]
    }
   ],
   "source": [
    "x_c = 0\n",
    "\n",
    "probability_c = stats.poisson.pmf(x_c, mu)\n",
    "\n",
    "print(\"(c)\", probability_c**2)"
   ]
  },
  {
   "cell_type": "markdown",
   "metadata": {},
   "source": [
    "# Question 9\n",
    "\n",
    "In proof testing of circuit boards, the probability that any particular diode will fail is 0.01. Suppose a circuit board contains 190 diodes.\n",
    "\n",
    "(a) How many diodes would you expect to fail?\n",
    "\n",
    "What is the standard deviation of the number that are expected to fail?\n",
    "\n",
    "(b) What is the (approximate) probability that at least four diodes will fail on a randomly selected board? (Use binomial approximation.)\n",
    "\n",
    "(c) If five boards are shipped to a particular customer, how likely is it that at least four of them will work properly? (A board works properly only if all its diodes work.)"
   ]
  },
  {
   "cell_type": "code",
   "execution_count": 109,
   "metadata": {},
   "outputs": [
    {
     "name": "stdout",
     "output_type": "stream",
     "text": [
      "(e) expected 1.9000000000000001 standard deviation 1.3714955340794952\n"
     ]
    }
   ],
   "source": [
    "n = 190\n",
    "p = 0.01\n",
    "\n",
    "expected = n * p\n",
    "sd = np.sqrt( expected * (1 - p) )\n",
    "\n",
    "print(\"(e)\", \"expected\", expected, \"standard deviation\", sd)"
   ]
  },
  {
   "cell_type": "code",
   "execution_count": 110,
   "metadata": {},
   "outputs": [
    {
     "name": "stdout",
     "output_type": "stream",
     "text": [
      "(b) 0.12434906193496342\n"
     ]
    }
   ],
   "source": [
    "x_gte_b = 4\n",
    "\n",
    "probability_b = 1 - stats.binom.cdf(x_gte_b - 1, n, p)\n",
    "\n",
    "print(\"(b)\", probability_b)"
   ]
  },
  {
   "cell_type": "code",
   "execution_count": 117,
   "metadata": {},
   "outputs": [
    {
     "name": "stdout",
     "output_type": "stream",
     "text": [
      "(c) 0.002122913679549421\n"
     ]
    }
   ],
   "source": [
    "x_c = 0\n",
    "probability_one_works = stats.binom.pmf(x_c, n, p)\n",
    "\n",
    "probability_c = 1 - stats.binom.cdf(3, 5, probability_one_works)\n",
    "\n",
    "print(\"(c)\", probability_c)"
   ]
  },
  {
   "cell_type": "code",
   "execution_count": null,
   "metadata": {},
   "outputs": [],
   "source": []
  }
 ],
 "metadata": {
  "kernelspec": {
   "display_name": "Python 3",
   "language": "python",
   "name": "python3"
  },
  "language_info": {
   "codemirror_mode": {
    "name": "ipython",
    "version": 3
   },
   "file_extension": ".py",
   "mimetype": "text/x-python",
   "name": "python",
   "nbconvert_exporter": "python",
   "pygments_lexer": "ipython3",
   "version": "3.7.8"
  }
 },
 "nbformat": 4,
 "nbformat_minor": 2
}
