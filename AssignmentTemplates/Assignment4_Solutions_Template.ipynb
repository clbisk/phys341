{
 "cells": [
  {
   "cell_type": "markdown",
   "metadata": {},
   "source": [
    "# Assignment 4 Solutions\n",
    "\n",
    "In performing a two-sample t-test, there are two distinct situations to consider:\n",
    "\n",
    "1.  The variances of the two samples are equal to one another (i.e. we are sampling from the same population).\n",
    "2.  The variances of the two samples are not equal to one another (i.e. we are sampling from two different populations).\n",
    "\n",
    "For this assignment, the textbook assumes always that situation 2 is the case!!!!!\n",
    "\n",
    "In these instances, we calculate the standard error in the mean (SEM) and the combined number of degrees of freedom as follows:\n",
    "\n",
    "$SEM = \\sqrt{\\frac{s_1^2}{n_1} + \\frac{s_2^2}{n_2}}$\n",
    "\n",
    "$df = \\frac{ \\left( \\frac{s_1^2}{n_1} + \\frac{s_2^2}{n_2}    \\right)^2 }{\\frac{ \\left(\\frac{s_1^2}{n_1}\\right)^2   }{n_1-1} + \\frac{ \\left(\\frac{s_2^2}{n_2}\\right)^2   }{n_2-1}}$"
   ]
  },
  {
   "cell_type": "code",
   "execution_count": 2,
   "metadata": {},
   "outputs": [],
   "source": [
    "import numpy as np\n",
    "import scipy.stats as stats\n",
    "import matplotlib.pyplot as plt\n",
    "\n",
    "def sem_neq(n1,n2,s1,s2):\n",
    "    sm = np.sqrt(s1**2/n1+s2**2/n2)\n",
    "    return float(sm)\n",
    "\n",
    "def ndof_neq(n1,n2,s1,s2):\n",
    "    v1 = s1**2/n1\n",
    "    v2 = s2**2/n2\n",
    "    dof = (v1+v2)**2/(v1**2/(n1-1)+v2**2/(n2-1))\n",
    "    return int(dof)\n",
    "\n",
    "def sem_eq(n1,n2,s1,s2):\n",
    "    sp = np.sqrt(((n1-1)*s1**2+(n2-1)*s2**2)/(n1+n2-2))\n",
    "    sm = sp*np.sqrt(1.0/n1+1.0/n2)\n",
    "    return float(sm)\n",
    "\n",
    "def ndof_eq(n1,n2,s1,s2):\n",
    "    dof = n2+n1-2\n",
    "    return int(dof)"
   ]
  },
  {
   "cell_type": "markdown",
   "metadata": {},
   "source": [
    "# Question 1"
   ]
  },
  {
   "cell_type": "markdown",
   "metadata": {},
   "source": [
    "Determine the number of degrees of freedom for the two-sample t test or CI in each of the following situations. \n",
    "(Exact integer answers required.)\n",
    "\n",
    "(a) m = 12, n = 15, s1 = 5.4, s2 = 6.2\n",
    "\n",
    "\n",
    "(b) m = 6, n = 30, s1 = 4.8, s2 = 5.9\n",
    "\n",
    "\n",
    "(c) m = 5, n = 7, s1 = 2, s2 = 6.5\n",
    "\n",
    "\n",
    "(d) m = 12, n = 22, s1 = 3.5, s2 = 6.9"
   ]
  },
  {
   "cell_type": "code",
   "execution_count": 5,
   "metadata": {},
   "outputs": [
    {
     "name": "stdout",
     "output_type": "stream",
     "text": [
      "(a) 24\n",
      "(b) 8\n",
      "(c) 7\n",
      "(d) 31\n"
     ]
    }
   ],
   "source": [
    "print(\"(a)\", ndof_neq(12, 15, 5.4, 6.2))\n",
    "print(\"(b)\", ndof_neq(6, 30, 4.8, 5.9))\n",
    "print(\"(c)\", ndof_neq(5, 7, 2, 6.5))\n",
    "print(\"(d)\", ndof_neq(12, 22, 3.5, 6.9))"
   ]
  },
  {
   "cell_type": "markdown",
   "metadata": {},
   "source": [
    "# Question 2\n",
    "\n",
    "Let μ1 and μ2 denote true average densities for two different types of brick. Assuming normality of the two density distributions, test Ho: μ1 – μ2 = 0 versus Ha: μ1 – μ2 ≠ 0 using the following data: m = 6, x = 22.27, s1 = 0.156, n = 5, y = 20.22, and s2 = 0.234. (Use α = 0.05. Give ν to exact integer and t to 2 decimal places.)"
   ]
  },
  {
   "cell_type": "code",
   "execution_count": 30,
   "metadata": {},
   "outputs": [
    {
     "name": "stdout",
     "output_type": "stream",
     "text": [
      "v: 6 t: 7.77\n"
     ]
    }
   ],
   "source": [
    "alpha = 0.05\n",
    "n1 = 6\n",
    "mu1 = 22.47\n",
    "s1 = 0.162\n",
    "n2 = 5\n",
    "mu2 = 21.47\n",
    "s2 = 0.247\n",
    "\n",
    "ndof = ndof_neq(n1, n2, s1, s2)\n",
    "sem = sem_neq(n1, n2, s1, s2)\n",
    "x_bar = (n1 * mu1 + n2 * mu2) / (n1 + n2)\n",
    "\n",
    "t = ((mu1 - mu2) - 0) / sem\n",
    "\n",
    "print(\"v:\", ndof, \"t: %.2f\" % t)\n",
    "\n",
    "#reject H sub o as mu1 =/= mu2 in the data and results were significant"
   ]
  },
  {
   "cell_type": "markdown",
   "metadata": {},
   "source": [
    "# Question 3\n",
    "\n",
    "Quantitative noninvasive techniques are needed for routinely assessing symptoms of peripheral neuropathies, such as carpal tunnel syndrome (CTS). An article reported on a test that involved sensing a tiny gap in an otherwise smooth surface by probing with a finger; this functionally resembles many work-related tactile activities, such as detecting scratches or surface defects. When finger probing was not allowed, the sample average gap detection threshold for m = 8 normal subjects was 1.8 mm, and the sample standard deviation was 0.49; for n = 12 CTS subjects, the sample mean and sample standard deviation were 2.52 and 0.85, respectively. Does this data suggest that the true average gap detection threshold for CTS subjects exceeds that for normal subjects? State and test the relevant hypotheses using a significance level of .01. (Give answers accurate to 2 decimal places.)"
   ]
  },
  {
   "cell_type": "code",
   "execution_count": 18,
   "metadata": {},
   "outputs": [
    {
     "name": "stdout",
     "output_type": "stream",
     "text": [
      "t: 2.51 critical value: 2.65\n",
      "Fail to reject the null hypothesis ... P-value is greater than alpha\n",
      "there is not significant evidence that the true average gap detection threshold for CTS subjects exceeds that for normal subjects.\n"
     ]
    }
   ],
   "source": [
    "alpha = 0.02\n",
    "n1 = 9\n",
    "xbar1 = 1.64\n",
    "s1 = 0.59\n",
    "n2 = 9\n",
    "xbar2 = 2.57\n",
    "s2 = 0.94\n",
    "mu1 = mu2 = 0\n",
    "\n",
    "ndof = ndof_neq(n1, n2, s1, s2)\n",
    "sem = sem_neq(n1, n2, s1, s2)\n",
    "\n",
    "t = ((xbar2 - xbar1) - (mu2 - mu1)) / sem\n",
    "\n",
    "df = n1 + n2 - 2\n",
    "tdist = stats.t(ndof)\n",
    "tlow = tdist.ppf(alpha/2)\n",
    "thigh = tdist.ppf(1 - alpha/2)\n",
    "\n",
    "pvalue = 2 * tdist.cdf(-np.abs(t))\n",
    "\n",
    "print(\"t: %0.2f\" % t, \"critical value: %0.2f\" % thigh)\n",
    "\n",
    "if (pvalue < alpha):\n",
    "    print (\"Reject the null hypothesis ... P-value is less than alpha\")\n",
    "    print (\"there is significant evidence that the true average gap detection threshold for CTS subjects exceeds that for normal subjects.\")\n",
    "else:\n",
    "    print (\"Fail to reject the null hypothesis ... P-value is greater than alpha\")\n",
    "    print (\"there is not significant evidence that the true average gap detection threshold for CTS subjects exceeds that for normal subjects.\")"
   ]
  },
  {
   "cell_type": "markdown",
   "metadata": {},
   "source": [
    "# Question 4\n",
    "\n",
    "The slant shear test is widely accepted for evaluating the bond of resinous repair materials to concrete; it utilizes cylinder specimens made of two identical halves bonded at 30°. For 12 specimens prepared using wire-brushing, the sample mean shear strength (N/mm2) and sample standard deviation were 18.23 and 1.48, respectively, whereas for 12 hand-chiseled specimens, the corresponding values were 23.47 and 4.01. Does the true average strength appear to be different for the two methods of surface preparation? Test the relevant hypotheses using a significance level of .05. (Give ν to exact integer and t to 2 decimal places.)"
   ]
  },
  {
   "cell_type": "code",
   "execution_count": 25,
   "metadata": {},
   "outputs": [
    {
     "name": "stdout",
     "output_type": "stream",
     "text": [
      "v: 14 t: -4.09\n",
      "Reject the null hypothesis ... P-value is less than alpha\n",
      "There does appear to be a difference between them.\n"
     ]
    }
   ],
   "source": [
    "alpha = 0.10\n",
    "n1 = 12\n",
    "xbar1 = 19.51\n",
    "s1 = 1.66\n",
    "n2 = 12\n",
    "xbar2 = 24.57\n",
    "s2 = 3.95\n",
    "mu1 = mu2 = 0\n",
    "\n",
    "ndof = ndof_neq(n1, n2, s1, s2)\n",
    "sem = sem_neq(n1, n2, s1, s2)\n",
    "\n",
    "t = ((xbar1 - xbar2) - (mu1 - mu2)) / sem\n",
    "\n",
    "df = n1 + n2 - 2\n",
    "tdist = stats.t(ndof)\n",
    "tlow = tdist.ppf(alpha/2)\n",
    "thigh = tdist.ppf(1 - alpha/2)\n",
    "\n",
    "pvalue = 2 * tdist.cdf(-np.abs(t))\n",
    "\n",
    "print(\"v:\", ndof, \"t: %0.2f\" % t)\n",
    "\n",
    "if (pvalue < alpha):\n",
    "    print (\"Reject the null hypothesis ... P-value is less than alpha\")\n",
    "    print (\"There does appear to be a difference between them.\")\n",
    "else:\n",
    "    print (\"Fail to reject the null hypothesis ... P-value is greater than alpha\")\n",
    "    print (\"There does not appear to be a difference between them.\")"
   ]
  },
  {
   "cell_type": "markdown",
   "metadata": {},
   "source": [
    "# Question 5\n",
    "\n",
    "Consider the accompanying data on breaking load (kg/25 mm width) for various fabrics in both an unabraded condition and an abraded condition. Use the paired t test to test Ho: μD = 0 versus Ha: μD > 0 at significance level .01. (Give answers accurate to 2 decimal places.)"
   ]
  },
  {
   "cell_type": "code",
   "execution_count": 37,
   "metadata": {},
   "outputs": [
    {
     "name": "stdout",
     "output_type": "stream",
     "text": [
      "rejection region: t >= 3.50 t: 1.99\n",
      "Fail to reject the null hypothesis ... P-value is greater than alpha\n",
      "There does not appear to be a difference between them.\n"
     ]
    }
   ],
   "source": [
    "U = np.array([36.2, 55.0, 53.6, 38.7, 45.2, 48.8, 24.9, 49.8])\n",
    "A = np.array([28.9, 20.0, 46.1, 34.5, 38.4, 52.5, 20.9, 46.5])\n",
    "\n",
    "difference = U - A\n",
    "xbar = difference.mean()\n",
    "sem = stats.sem(difference)\n",
    "df = len(difference) - 1\n",
    "mu = 0\n",
    "alpha = 0.01\n",
    "\n",
    "tvalue = (xbar-mu)/sem\n",
    "\n",
    "tdist = stats.t(df)\n",
    "tlow = tdist.ppf(alpha/2.0)\n",
    "thigh = tdist.ppf(1-alpha/2.0)\n",
    "\n",
    "pvalue = 2.0*tdist.cdf(-np.abs(tvalue))\n",
    "\n",
    "print(\"rejection region: t >= %0.2f\" % thigh, \"t: %0.2f\" % tvalue)\n",
    "\n",
    "if (pvalue < alpha):\n",
    "    print (\"Reject the null hypothesis ... P-value is less than alpha\")\n",
    "    print (\"There does appear to be a difference between them.\")\n",
    "else:\n",
    "    print (\"Fail to reject the null hypothesis ... P-value is greater than alpha\")\n",
    "    print (\"There does not appear to be a difference between them.\")"
   ]
  },
  {
   "cell_type": "markdown",
   "metadata": {},
   "source": [
    "# Question 6\n",
    "\n",
    "Data on the modulus of elasticity obtained 1 minute after loading in a certain configuration and 4 weeks after loading for the same lumber specimens is presented here.\n",
    "\n",
    "Calculate and interpret an upper confidence bound for the true average difference between 1-minute modulus and 4-week modulus; first check the plausibility of any necessary assumptions. (Use α = 0.05. Round your answer to the nearest whole number.)\n",
    "\n",
    "The data for this question is stored in a local file called A4Q6.csv"
   ]
  },
  {
   "cell_type": "code",
   "execution_count": 5,
   "metadata": {},
   "outputs": [
    {
     "name": "stdout",
     "output_type": "stream",
     "text": [
      "rejection region: t >= 2.13 t: 18.38\n",
      "Reject the null hypothesis ... P-value is less than alpha\n",
      "There does appear to be a difference between them.\n"
     ]
    }
   ],
   "source": [
    "difference = np.array([1818, 3370, 2580, 3374, 2850, 2690, 2180, 1679, 2210, 2350, 2260, 2909, 2880, 2750, 3520, 1913])\n",
    "xbar = difference.mean()\n",
    "sem = stats.sem(difference)\n",
    "df = len(difference) - 1\n",
    "mu = 0\n",
    "alpha = 0.05\n",
    "\n",
    "tvalue = (xbar-mu)/sem\n",
    "\n",
    "tdist = stats.t(df)\n",
    "tlow = tdist.ppf(alpha/2.0)\n",
    "thigh = tdist.ppf(1-alpha/2.0)\n",
    "\n",
    "pvalue = 2.0*tdist.cdf(-np.abs(tvalue))\n",
    "\n",
    "print(\"rejection region: t >= %0.2f\" % thigh, \"t: %0.2f\" % tvalue)"
   ]
  },
  {
   "cell_type": "markdown",
   "metadata": {},
   "source": [
    "# Question 7\n",
    "\n",
    "Give as much information as you can about the P-value of the F test in each of the following situations. (Give answers accurate to 3 decimal places.)\n",
    "\n",
    "(a) ν1 = 5, ν2 = 10, upper-tailed test, f = 2.52\n",
    "\n",
    "(b) ν1 = 5, ν2 = 10, upper-tailed test, f = 5.64 \n",
    "\n",
    "(c) ν1 = 5, ν2 = 10, two-tailed test, f = 5.64 \n",
    "\n",
    "(d) ν1 = 5, ν2 = 10, lower-tailed test, f = 5.64\n",
    "\n",
    "(e) ν1 = 40, ν2 = 20, upper-tailed test, f = 3.86"
   ]
  },
  {
   "cell_type": "code",
   "execution_count": 3,
   "metadata": {},
   "outputs": [],
   "source": [
    "def fpvalue(fvalue,dof1,dof2,test):\n",
    "    fdist = stats.f(dof1,dof2)\n",
    "\n",
    "    if (fvalue > 1):\n",
    "        if test == \"upper\":\n",
    "            pvalue = (1-fdist.cdf(fvalue))\n",
    "        if test == \"two\":\n",
    "            pvalue = 2.0*(1-fdist.cdf(fvalue))\n",
    "        if test == \"lower\":\n",
    "            pvalue = fdist.cdf(fvalue)\n",
    "    else:\n",
    "        if test == \"upper\":\n",
    "            pvalue = fdist.cdf(fvalue)\n",
    "        if test == \"two\":\n",
    "            pvalue = 2.0*fdist.cdf(fvalue)\n",
    "        if test == \"lower\":\n",
    "            pvalue = (1-fdist.cdf(fvalue))\n",
    "            \n",
    "    print (\"Pvalue = %0.3f\" % (pvalue))"
   ]
  },
  {
   "cell_type": "code",
   "execution_count": 6,
   "metadata": {},
   "outputs": [
    {
     "name": "stdout",
     "output_type": "stream",
     "text": [
      "Pvalue = 0.001\n",
      "Pvalue = 0.050\n",
      "Pvalue = 0.200\n",
      "Pvalue = 0.900\n",
      "Pvalue = 0.010\n"
     ]
    }
   ],
   "source": [
    "fpvalue(10.48, 5, 10, \"upper\")\n",
    "fpvalue(3.33, 5, 10, \"upper\")\n",
    "fpvalue(2.52, 5, 10, \"two\")\n",
    "fpvalue(2.52, 5, 10, \"lower\")\n",
    "fpvalue(2.69, 40, 20, \"upper\")"
   ]
  },
  {
   "cell_type": "markdown",
   "metadata": {},
   "source": [
    "# Question 8\n",
    "\n",
    "As the population ages, there is increasing concern about accident-related injuries to the elderly. An article reported on an experiment in which the maximum lean angle—the furthest a subject is able to lean and still recover in one step—was determined for both a sample of younger females (21-29 years) and a sample of older females (67-81 years). The following observations are consistent with summary data given in the article.\n",
    "\n",
    "YF:\t32,\t29,\t31,\t26,\t29,\t36,\t29,\t27,\t35,\t26\n",
    "\n",
    "OF:\t17,\t13,\t21,\t22,\t22\n",
    "\n",
    "Carry out a test at significance level .10 to see whether the population standard deviations for the two age groups are different (normal probability plots support the necessary normality assumption). (Give answer accurate to 2 decimal places.)"
   ]
  },
  {
   "cell_type": "code",
   "execution_count": 16,
   "metadata": {},
   "outputs": [],
   "source": [
    "yf = np.array([28, 34, 26, 34, 36, 29, 34, 28, 33, 26])\n",
    "of = np.array([16, 16, 12, 12, 13])"
   ]
  },
  {
   "cell_type": "code",
   "execution_count": 17,
   "metadata": {},
   "outputs": [],
   "source": [
    "n1 = len(yf)\n",
    "n2 = len(of)\n",
    "\n",
    "dof1 = n1 - 1\n",
    "dof2 = n2 - 2\n",
    "\n",
    "s1 = yf.std(ddof=1)\n",
    "s2 = of.std(ddof=1)\n",
    "\n",
    "xbar1 = yf.mean()\n",
    "xbar2 = of.mean()\n",
    "\n",
    "fvalue = s1**2 / s2**2\n",
    "\n",
    "alpha = 0.05\n",
    "\n",
    "fdist = stats.f(dof1, dof2)\n",
    "flow = fdist.ppf(alpha / 2)\n",
    "fhigh = 1 - fdist.ppf(alpha / 2)"
   ]
  },
  {
   "cell_type": "code",
   "execution_count": 18,
   "metadata": {},
   "outputs": [
    {
     "name": "stdout",
     "output_type": "stream",
     "text": [
      "fvalue:  3.3756613756613745\n",
      "Pvalue = 0.173\n"
     ]
    }
   ],
   "source": [
    "print(\"fvalue: \", fvalue)\n",
    "\n",
    "fpvalue(fvalue, dof1, dof2, \"upper\")\n",
    "# fail to reject the null hypothesis, there is not a significant difference\n",
    "# between the two standard deviations"
   ]
  },
  {
   "cell_type": "markdown",
   "metadata": {},
   "source": [
    "# Question 9\n",
    "\n",
    "Adding computerized medical images to a database promises to provide great resources for physicians. However, there are other methods of obtaining such information, so the issue of efficiency of access needs to be investigated. The article \"The Comparative Effectiveness of Conventional and Digital Image Libraries\" (J. of Audiovisual Media in Medicine, 2001: 8-15) reported on an experiment in which \n",
    " computer-proficient medical professionals were timed both while retrieving an image from a library of slides and while retrieving the same image from a computer database with a Web front end.\n",
    " \n",
    "Subject:\t1\t2\t3\t4\t5\t6\t7\t8\t9\t10\t11\t12\t13\n",
    "Slide:\t30\t35\t40\t25\t20\t30\t35\t62\t40\t51\t25\t42\t33\n",
    "Digital:\t25\t16\t15\t15\t10\t20\t7\t16\t15\t13\t11\t19\t19\n",
    "Difference:\t5\t19\t25\t10\t10\t10\t28\t46\t25\t38\t14\t23\t14\n",
    "       \n",
    "Let μD denote the true mean difference between slide retrieval time (sec) and digital retrieval time. Using the paired t confidence interval to estimate μD requires that the difference distribution be at least approximately \n",
    "normal. The linear pattern of points in the normal probability plot from MINITAB (Figure 9.7) validates the normality assumption. (Only 9 points appear because of ties in the differences."
   ]
  },
  {
   "cell_type": "code",
   "execution_count": 19,
   "metadata": {},
   "outputs": [],
   "source": [
    "subject = np.array([1, 2, 3, 4, 5, 6, 7, 8, 9, 10, 11, 12, 13])\n",
    "slide = np.array([30, 35, 40, 25, 20, 30, 35, 62, 40, 51, 25, 42, 33])\n",
    "digital = np.array([25, 16, 15, 15, 10, 20, 7, 16, 15, 13, 11, 19, 19])\n",
    "difference = np.array([5, 19, 25, 10, 10, 10, 28, 46, 25, 38, 14, 23, 14])"
   ]
  },
  {
   "cell_type": "code",
   "execution_count": 25,
   "metadata": {
    "scrolled": true
   },
   "outputs": [
    {
     "name": "stdout",
     "output_type": "stream",
     "text": [
      "267\n",
      "7.199999999999999\n"
     ]
    }
   ],
   "source": [
    "print(sum(difference))\n",
    "print(20.5-13.3)"
   ]
  },
  {
   "cell_type": "code",
   "execution_count": null,
   "metadata": {},
   "outputs": [],
   "source": []
  }
 ],
 "metadata": {
  "kernelspec": {
   "display_name": "Python 3",
   "language": "python",
   "name": "python3"
  },
  "language_info": {
   "codemirror_mode": {
    "name": "ipython",
    "version": 3
   },
   "file_extension": ".py",
   "mimetype": "text/x-python",
   "name": "python",
   "nbconvert_exporter": "python",
   "pygments_lexer": "ipython3",
   "version": "3.8.5"
  }
 },
 "nbformat": 4,
 "nbformat_minor": 2
}
