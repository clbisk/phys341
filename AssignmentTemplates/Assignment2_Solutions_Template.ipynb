{
 "cells": [
  {
   "cell_type": "markdown",
   "metadata": {},
   "source": [
    "# Assignment 2 Solutions"
   ]
  },
  {
   "cell_type": "markdown",
   "metadata": {},
   "source": [
    "# Question 1\n",
    "\n",
    "Let Z be a standard normal random variable and calculate the following probabilities, drawing pictures whenever appropriate.\n",
    "\n",
    "(a) P(0 <= Z <= 2.42)\n",
    "\n",
    "(b) P(0 <= Z <= 2)\n",
    "\n",
    "(c) P(-2.90 <= Z <= 0)\n",
    "\n",
    "(d) P(-2.90 <= Z <= 2.9)\n",
    "\n",
    "(e) P(Z <= 1.46)\n",
    "\n",
    "(f) P(-1.67 <= Z)  \n",
    "\n",
    "(g) P(-1.9 <= Z <= 2.00)\n",
    "\n",
    "(h) P(1.46 <= Z <= 2.50)\n",
    "\n",
    "(i) P(1.9 <= Z)\n",
    "\n",
    "(j) P( |Z| <= 2.50)"
   ]
  },
  {
   "cell_type": "code",
   "execution_count": 19,
   "metadata": {},
   "outputs": [
    {
     "name": "stdout",
     "output_type": "stream",
     "text": [
      "(a) 0.49223974644944635\n",
      "(b) 0.4772498680518208\n",
      "(c) 0.49813418669961596\n",
      "(d) 0.9962683733992319\n",
      "(e) 0.9278549630341062\n",
      "(f) 0.9525403181970526\n",
      "(g) 0.9485333082358189\n",
      "(h) 0.06593537164011765\n",
      "(i) 0.028716559816001852\n",
      "(j) 0.9875806693484477\n"
     ]
    }
   ],
   "source": [
    "import scipy.stats as stats\n",
    "\n",
    "def prob_between(low=None, high=None):\n",
    "    if low is not None and high is not None:\n",
    "        return stats.norm.cdf(high) - stats.norm.cdf(low)\n",
    "    if low is not None:\n",
    "        return 1 - stats.norm.cdf(low)\n",
    "    else:\n",
    "        return stats.norm.cdf(high)\n",
    "\n",
    "print(\"(a)\", prob_between(0, 2.42))\n",
    "print(\"(b)\", prob_between(0, 2))\n",
    "print(\"(c)\", prob_between(-2.9, 0))\n",
    "print(\"(d)\", prob_between(-2.9, 2.9))\n",
    "print(\"(e)\", prob_between(high=1.46))\n",
    "print(\"(f)\", prob_between(-1.67))\n",
    "print(\"(g)\", prob_between(-1.9, 2))\n",
    "print(\"(h)\", prob_between(1.46, 2.5))\n",
    "print(\"(i)\", prob_between(1.9))\n",
    "print(\"(j)\", prob_between(-2.5, 2.5))"
   ]
  },
  {
   "cell_type": "markdown",
   "metadata": {},
   "source": [
    "# Question 2\n",
    "\n",
    "Let Z be a standard normal random variable. In each case, determine the value of the constant c that makes the probability statement correct.\n",
    "\n",
    "(a) Phi(c) = 0.9826 \n",
    "\n",
    "(b) P(0 <= Z <= c) = 0.3133\n",
    "\n",
    "(c) P(c <= Z) = 0.1251\n",
    "\n",
    "(d) P(-c <= Z <= c) = 0.6629\n",
    "\n",
    "(e) P(c <= |Z|) = 0.0143"
   ]
  },
  {
   "cell_type": "code",
   "execution_count": 29,
   "metadata": {},
   "outputs": [
    {
     "name": "stdout",
     "output_type": "stream",
     "text": [
      "(a) 2.1106779792322805\n",
      "(b) 0.890122709903895\n",
      "(c) 1.1498637337452084\n",
      "(d) 0.9599110189535661\n",
      "(e) 2.4496377503301354\n"
     ]
    }
   ],
   "source": [
    "def prob_is(prob):\n",
    "    return stats.norm.ppf(prob)\n",
    "\n",
    "print(\"(a)\", prob_is(0.9826))\n",
    "# to isolate probability Z is less/equal to c, add probability Z is less than 0 to both sides\n",
    "print(\"(b)\", prob_is(prob_between(high=0) + 0.3133))\n",
    "# integral from c to inf = integral from -inf to c = 1 - cdf\n",
    "print(\"(c)\", prob_is(1 - 0.1251))\n",
    "# prob Z from 0 to c is half total\n",
    "print(\"(d)\", prob_is(prob_between(high=0) + 0.6629 / 2))\n",
    "# Z <= -c, c <= Z\n",
    "print(\"(e)\", prob_is(1 - 0.0143/2))"
   ]
  },
  {
   "cell_type": "markdown",
   "metadata": {},
   "source": [
    "# Question 3\n",
    "\n",
    "If X is a normal rv with mean 80 and standard deviation 15, compute the following probabilities by standardizing.\n",
    "\n",
    "(a) P(X <= 110)\n",
    "\n",
    "(b) P(X <= 80)\n",
    "\n",
    "(c) P(57.5 <= X <= 110)\n",
    "\n",
    "(d) P(65 <= X)\n",
    "\n",
    "(e) P(87.5 <= X <= 102.5)\n",
    "\n",
    "(f) P( |X - 80| <= 15)\n",
    "  "
   ]
  },
  {
   "cell_type": "code",
   "execution_count": 33,
   "metadata": {},
   "outputs": [
    {
     "name": "stdout",
     "output_type": "stream",
     "text": [
      "(a) 0.9772498680518208\n",
      "(b) 0.5\n",
      "(c) 0.9104426667829627\n",
      "(d) 0.8413447460685429\n",
      "(e) 0.2417303374571288\n",
      "(f) 0.6826894921370859\n"
     ]
    }
   ],
   "source": [
    "def prob_between(mean=0, sd=1, low=None, high=None):\n",
    "    if low is not None and high is not None:\n",
    "        return stats.norm.cdf(high, mean, sd) - stats.norm.cdf(low, mean, sd)\n",
    "    if low is not None:\n",
    "        return 1 - stats.norm.cdf(low, mean, sd)\n",
    "    else:\n",
    "        return stats.norm.cdf(high, mean, sd)\n",
    "\n",
    "print(\"(a)\", prob_between(80, 15, high=110))\n",
    "print(\"(b)\", prob_between(80, 15, high=80))\n",
    "print(\"(c)\", prob_between(80, 15, 57.5, 110))\n",
    "print(\"(d)\", prob_between(80, 15, 65))\n",
    "print(\"(e)\", prob_between(80, 15, 87.5, 102.5))\n",
    "# X - 80 <= 15, X - 80 >= -15\n",
    "# X <= 95, X >= 65\n",
    "print(\"(f)\", prob_between(80, 15, 65, 95))"
   ]
  },
  {
   "cell_type": "markdown",
   "metadata": {},
   "source": [
    "# Question 4\n",
    "\n",
    "Suppose the force acting on a column that helps to support a building is normally distributed with mean 15.8 kips and standard deviation 1.22 kips. (Round your answers to four decimal places.)\n",
    "\n",
    "(a) What is the probability that the force is at most 18 kips? \n",
    "\n",
    "(b) What is the probability that the force is between 10 and 12 kips? \n",
    "\n",
    "(c) What is the probability that the force differs from 15.8 kips by at most 1.5 standard deviations?"
   ]
  },
  {
   "cell_type": "code",
   "execution_count": 35,
   "metadata": {},
   "outputs": [
    {
     "name": "stdout",
     "output_type": "stream",
     "text": [
      "(a) 0.9643277710753282\n",
      "(b) 0.0009194949040232833\n",
      "(c) 0.866385597462284\n"
     ]
    }
   ],
   "source": [
    "sd = 1.22\n",
    "print(\"(a)\", prob_between(15.8, sd, high=18))\n",
    "print(\"(b)\", prob_between(15.8, sd, 10, 12))\n",
    "print(\"(c)\", prob_between(15.8, sd, 15.8 - 1.5 * sd, 15.8 + 1.5 * sd))"
   ]
  },
  {
   "cell_type": "markdown",
   "metadata": {},
   "source": [
    "# Question 5\n",
    "\n",
    "There are two machines available for cutting corks intended for use in wine bottles. The first produces corks with diameters that are normally distributed with mean 3 cm and standard deviation 0.10 cm. The second machine produces corks with diameters that have a normal distribution with mean 3.04 cm and standard deviation 0.04 cm. Acceptable corks have diameters between 2.9 cm and 3.1 cm.\n",
    "\n",
    "What is the probability that the first machine produces an acceptable cork? (Round your answer to four decimal places.) \n",
    "\n",
    "What is the probability that the second machine produces an acceptable cork? (Round your answer to four decimal places.)"
   ]
  },
  {
   "cell_type": "code",
   "execution_count": 37,
   "metadata": {},
   "outputs": [
    {
     "name": "stdout",
     "output_type": "stream",
     "text": [
      "(a) 0.6826894921370863\n",
      "(b) 0.9329601696521066\n"
     ]
    }
   ],
   "source": [
    "print(\"(a)\", prob_between(3, 0.1, 2.9, 3.1))\n",
    "print(\"(b)\", prob_between(3.04, 0.04, 2.9, 3.1))"
   ]
  },
  {
   "cell_type": "markdown",
   "metadata": {},
   "source": [
    "# Question 6\n",
    "\n",
    "It has been suggested that yield strength (ksi) for A36 grade steel is normally distributed with mu = 45 and σ = 3.0.\n",
    "\n",
    "(a) What is the probability that yield strength is at most 40?  \n",
    "\n",
    "What is the probability that yield strength is greater than 60?\n",
    "\n",
    "(b) What yield strength value separates the strongest 75% from the others?"
   ]
  },
  {
   "cell_type": "code",
   "execution_count": 41,
   "metadata": {},
   "outputs": [
    {
     "name": "stdout",
     "output_type": "stream",
     "text": [
      "(a) 0.0477903522728147\n",
      "(b) 2.866515719235352e-07\n",
      "(c) 42.97653074941176\n"
     ]
    }
   ],
   "source": [
    "print(\"(a)\", prob_between(45, 3, high=40))\n",
    "print(\"(b)\", prob_between(45, 3, 60))\n",
    "print(\"(c)\", stats.norm.ppf(1 - 0.75, 45, 3))"
   ]
  },
  {
   "cell_type": "markdown",
   "metadata": {},
   "source": [
    "# Question 7\n",
    "\n",
    "The temperature reading from a thermocouple placed in a constant-temperature medium is normally distributed with mean μ, the actual temperature of the medium, and standard deviation σ. What would the value of σ have to be to ensure that 95% of all readings are within 0.9° of μ?"
   ]
  },
  {
   "cell_type": "code",
   "execution_count": 48,
   "metadata": {},
   "outputs": [
    {
     "name": "stdout",
     "output_type": "stream",
     "text": [
      "1.959963984540054\n",
      "-1.9599639845400545\n",
      "0.45919211123218856\n"
     ]
    }
   ],
   "source": [
    "# in other words, only 2.5% < mu-0.9 and only 2.5% > mu + 0.9\n",
    "print(stats.norm.ppf(.975))\n",
    "# or\n",
    "print(stats.norm.ppf(0.025))\n",
    "# if sd is 1\n",
    "# so it is stats.norm.ppf(.975) sd away from the mean\n",
    "# 0.9 = 1.959963984540054 * sd\n",
    "# so one sd = 0.9 / 1.959963984540054\n",
    "print(0.9 / stats.norm.ppf(.975))"
   ]
  },
  {
   "cell_type": "markdown",
   "metadata": {},
   "source": [
    "$z = (\\bar{x}-\\mu)/\\sigma$\n",
    "\n",
    "Therefore,\n",
    "\n",
    "$\\sigma = (\\bar{x}-\\mu)/z$\n",
    "\n",
    "$\\sigma = \\delta_\\mu/z$"
   ]
  },
  {
   "cell_type": "code",
   "execution_count": null,
   "metadata": {},
   "outputs": [],
   "source": [
    "print (\"Sigma - %.4f\" % (delta_mu/zhigh))"
   ]
  },
  {
   "cell_type": "markdown",
   "metadata": {},
   "source": [
    "# Question 8\n",
    "\n",
    "Suppose that 10% of all steel shafts produced by a certain process are nonconforming but can be reworked (rather than having to be scrapped). Consider a random sample of 200 shafts, and let X denote the number among these that are nonconforming and can be reworked.\n",
    "\n",
    "(a) What is the (approximate) probability that X is at most 30?\n",
    "\n",
    "(b) What is the (approximate) probability that X is less than 30?\n",
    "\n",
    "(c) What is the (approximate) probability that X is between 15 and 25 (inclusive)?"
   ]
  },
  {
   "cell_type": "markdown",
   "metadata": {},
   "source": [
    "This question asks us to make an approximation to a process that is governed (exactly) by the binomial distribution.  The two approximations that we could considers are (a) the normal distribution, and (b) the Poisson distribution.  The normal distribution is appropriate for large N, and p $\\approx$ 0.5.  The Poission distribution is appropriate for small p or large p.  Since we have p = 0.10, we choose the Poisson distribution."
   ]
  },
  {
   "cell_type": "code",
   "execution_count": 50,
   "metadata": {},
   "outputs": [
    {
     "name": "stdout",
     "output_type": "stream",
     "text": [
      "a: 0.9865\n",
      "b: 0.9782\n",
      "c: 0.78295075\n"
     ]
    }
   ],
   "source": [
    "import numpy as np\n",
    "n = 200\n",
    "p = 0.10\n",
    "\n",
    "lmbda = n*p\n",
    "\n",
    "dist = stats.poisson(lmbda)\n",
    "\n",
    "# binomial is usually used for discrete, but if it's continuous we gotta account for the 0.5\n",
    "print(\"a: %0.4f\" % (dist.cdf(30.5)))\n",
    "print(\"b: %0.4f\" % (dist.cdf(29.5)))\n",
    "print(\"c: %0.5f\" % (dist.cdf(25.5) - dist.cdf(14.5)))"
   ]
  },
  {
   "cell_type": "code",
   "execution_count": null,
   "metadata": {},
   "outputs": [],
   "source": []
  }
 ],
 "metadata": {
  "kernelspec": {
   "display_name": "Python 3",
   "language": "python",
   "name": "python3"
  },
  "language_info": {
   "codemirror_mode": {
    "name": "ipython",
    "version": 3
   },
   "file_extension": ".py",
   "mimetype": "text/x-python",
   "name": "python",
   "nbconvert_exporter": "python",
   "pygments_lexer": "ipython3",
   "version": "3.8.5"
  }
 },
 "nbformat": 4,
 "nbformat_minor": 2
}
