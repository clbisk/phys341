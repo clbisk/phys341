{
 "cells": [
  {
   "cell_type": "code",
   "execution_count": 166,
   "metadata": {},
   "outputs": [
    {
     "name": "stdout",
     "output_type": "stream",
     "text": [
      "probability that 3 phones are under warranty = 0.2405\n",
      "probability that 3 out of 3 phones are under warranty = 0.0270\n",
      "probability that this scenario occured, resulting in 3 phones replaced = 0.0065\n",
      "probability that 4 phones are under warranty = 0.2155\n",
      "probability that 3 out of 4 phones are under warranty = 0.0756\n",
      "probability that this scenario occured, resulting in 3 phones replaced = 0.0163\n",
      "probability that 5 phones are under warranty = 0.1416\n",
      "probability that 3 out of 5 phones are under warranty = 0.1323\n",
      "probability that this scenario occured, resulting in 3 phones replaced = 0.0187\n",
      "probability that 6 phones are under warranty = 0.0705\n",
      "probability that 3 out of 6 phones are under warranty = 0.1852\n",
      "probability that this scenario occured, resulting in 3 phones replaced = 0.0131\n",
      "probability that 7 phones are under warranty = 0.0271\n",
      "probability that 3 out of 7 phones are under warranty = 0.2269\n",
      "probability that this scenario occured, resulting in 3 phones replaced = 0.0061\n",
      "probability that 8 phones are under warranty = 0.0081\n",
      "probability that 3 out of 8 phones are under warranty = 0.2541\n",
      "probability that this scenario occured, resulting in 3 phones replaced = 0.0021\n",
      "probability that 9 phones are under warranty = 0.0019\n",
      "probability that 3 out of 9 phones are under warranty = 0.2668\n",
      "probability that this scenario occured, resulting in 3 phones replaced = 0.0005\n",
      "probability that 10 phones are under warranty = 0.0003\n",
      "probability that 3 out of 10 phones are under warranty = 0.2668\n",
      "probability that this scenario occured, resulting in 3 phones replaced = 0.0001\n",
      "probability that 11 phones are under warranty = 0.0000\n",
      "probability that 3 out of 11 phones are under warranty = 0.2568\n",
      "probability that this scenario occured, resulting in 3 phones replaced = 0.0000\n",
      "probability that 12 phones are under warranty = 0.0000\n",
      "probability that 3 out of 12 phones are under warranty = 0.2397\n",
      "probability that this scenario occured, resulting in 3 phones replaced = 0.0000\n",
      "probability that 13 phones are under warranty = 0.0000\n",
      "probability that 3 out of 13 phones are under warranty = 0.2181\n",
      "probability that this scenario occured, resulting in 3 phones replaced = 0.0000\n",
      "probability that 14 phones are under warranty = 0.0000\n",
      "probability that 3 out of 14 phones are under warranty = 0.1943\n",
      "probability that this scenario occured, resulting in 3 phones replaced = 0.0000\n",
      "probability that 15 phones are under warranty = 0.0000\n",
      "probability that 3 out of 15 phones are under warranty = 0.1700\n",
      "probability that this scenario occured, resulting in 3 phones replaced = 0.0000\n",
      "------------------------------------------\n",
      "probability that 3/15 phones were replaced under warranty: 0.06338038028461675\n"
     ]
    }
   ],
   "source": [
    "from final_exam_first_cell import *\n",
    "\n",
    "# question 1 (still incorrect)\n",
    "\n",
    "# there are many ways to end up with exactly 3 replaced phones:\n",
    "# all 15 submitted under warranty; 3/15 replaced\n",
    "# 14 submitted, 3/14 replaced\n",
    "# 13 submitted, 3/13 replaced\n",
    "# ...\n",
    "# 3 submitted, all 3 replaced\n",
    "\n",
    "warranty_dist = stats.binom(15, 0.23)\n",
    "\n",
    "sum_probs = 0\n",
    "\n",
    "for phones_under_warranty in range(3, 15 + 1):\n",
    "    # probability that this many phones were submitted for service while under warranty\n",
    "    warranty_prob = warranty_dist.pmf(phones_under_warranty)\n",
    "    print(\"probability that\", phones_under_warranty, \"phones are under warranty = %0.4f\" % warranty_prob)\n",
    "    \n",
    "    # probability that this many phones of the ones in service were replaced\n",
    "    replaced_dist = stats.binom(phones_under_warranty, 0.3)\n",
    "    replaced_prob = replaced_dist.pmf(3)\n",
    "    print(\"probability that 3 out of\", phones_under_warranty, \"phones are under warranty = %0.4f\" % replaced_prob)\n",
    "    \n",
    "    # total probability (AND --> times)\n",
    "    total_prob = warranty_prob * replaced_prob\n",
    "    print(\"probability that this scenario occured, resulting in 3 phones replaced = %0.4f\" % total_prob)\n",
    "    sum_probs += total_prob\n",
    "    \n",
    "print(\"------------------------------------------\")\n",
    "print(\"probability that 3/15 phones were replaced under warranty:\", sum_probs)\n",
    "    "
   ]
  },
  {
   "cell_type": "code",
   "execution_count": 3,
   "metadata": {},
   "outputs": [
    {
     "name": "stdout",
     "output_type": "stream",
     "text": [
      "1) 0.9986501019683699\n"
     ]
    }
   ],
   "source": [
    "three_dead_phones = stats.norm.cdf(3)\n",
    "print(\"1)\", three_dead_phones)"
   ]
  },
  {
   "cell_type": "code",
   "execution_count": 15,
   "metadata": {},
   "outputs": [
    {
     "name": "stdout",
     "output_type": "stream",
     "text": [
      "2a) 0.17\n"
     ]
    }
   ],
   "source": [
    "# question 2 (still incorrect)\n",
    "sigma = 10\n",
    "H0 = 74\n",
    "n = 25\n",
    "\n",
    "sd_below_mean = (74 - 72.3) / 10\n",
    "print(\"2a) %0.2f\" % sd_below_mean)"
   ]
  },
  {
   "cell_type": "code",
   "execution_count": 13,
   "metadata": {},
   "outputs": [
    {
     "name": "stdout",
     "output_type": "stream",
     "text": [
      "3) 0.807, 0.953\n"
     ]
    }
   ],
   "source": [
    "# question 3 (correct)\n",
    "n = 115\n",
    "ndof = n - 1\n",
    "x_bar = 0.88\n",
    "S = 0.30\n",
    "sem = S / np.sqrt(n)\n",
    "CI = 0.99\n",
    "alpha = 1 - CI\n",
    "\n",
    "critical_values = stats.t.interval(CI, ndof, loc=x_bar, scale=sem)\n",
    "print(\"3) %0.3f, %0.3f\" % critical_values)"
   ]
  },
  {
   "cell_type": "code",
   "execution_count": 18,
   "metadata": {},
   "outputs": [
    {
     "name": "stdout",
     "output_type": "stream",
     "text": [
      "4a) 0.088\n",
      "4b) 0.086\n"
     ]
    }
   ],
   "source": [
    "# question 4 (still incorrect)\n",
    "n = 100\n",
    "x_bar_a = 50\n",
    "S = 0.9\n",
    "ndof = n - 1\n",
    "\n",
    "prob_a = stats.t.cdf(50.1, ndof, x_bar_a, S) - stats.t.cdf(49.9, ndof, x_bar_a, S)\n",
    "print(\"4a) %0.3f\" % prob_a)\n",
    "\n",
    "x_bar_b = 49.8\n",
    "prob_b = stats.t.cdf(50.1, ndof, x_bar_b, S) - stats.t.cdf(49.9, ndof, x_bar_b, S)\n",
    "print(\"4b) %0.3f\" % prob_b)"
   ]
  },
  {
   "cell_type": "code",
   "execution_count": 160,
   "metadata": {},
   "outputs": [
    {
     "name": "stdout",
     "output_type": "stream",
     "text": [
      "z = 2.58\n"
     ]
    }
   ],
   "source": [
    "# question 5...\n",
    "\n",
    "alpha = 0.01\n",
    "z = stats.norm.ppf(1 - alpha/2, 0, 1)\n",
    "\n",
    "print(\"z = %0.2f\" % z)"
   ]
  },
  {
   "cell_type": "code",
   "execution_count": 52,
   "metadata": {},
   "outputs": [
    {
     "name": "stdout",
     "output_type": "stream",
     "text": [
      "v_groups: 2.00\n",
      "v_error: 70.00, v_total: 72.00\n",
      "SS_groups: 152.52\n",
      "SS_error: 972.07\n",
      "MS_error: 13.89\n",
      "F Signal/Noise = 5.49 \n",
      "Pvalue = 0.006\n",
      "\n",
      "Source     df     Sum of Squares Mean Square     f     P-value\n",
      "Groups     2       152.52            76.26       5.49    0.0061\n",
      "Error      70      972.07            13.89\n",
      "Total      72     1124.59\n"
     ]
    }
   ],
   "source": [
    "# question 6 (correct)\n",
    "\n",
    "depressive = 21\n",
    "other = 27\n",
    "brain_damaged = 25\n",
    "groups = 3\n",
    "SS_total = 1124.59\n",
    "MS_groups = 76.26\n",
    "alpha = 0.01\n",
    "\n",
    "N = depressive + other + brain_damaged\n",
    "\n",
    "v_total = N - 1\n",
    "v_depressive = depressive - 1\n",
    "v_brain_damaged = brain_damaged - 1\n",
    "v_other = other - 1\n",
    "v_treatment = N - 3\n",
    "v_groups = groups - 1\n",
    "v_error = v_total - v_groups\n",
    "\n",
    "print(\"v_groups: %0.2f\" % (v_groups))\n",
    "print(\"v_error: %0.2f, v_total: %0.2f\" % (v_error, v_total))\n",
    "\n",
    "SS_groups = MS_groups * v_groups\n",
    "print(\"SS_groups:\"\" %0.2f\" % SS_groups)\n",
    "\n",
    "SS_error = SS_total - SS_groups\n",
    "print(\"SS_error: %0.2f\" % SS_error)\n",
    "\n",
    "MS_error = SS_error / v_error\n",
    "print(\"MS_error: %0.2f\" % MS_error)\n",
    "\n",
    "fSN = MS_groups / MS_error\n",
    "print (\"F Signal/Noise = %0.2f \" % fSN)\n",
    "\n",
    "fdist = stats.f(v_groups,v_error)\n",
    "\n",
    "if (fSN > 1):\n",
    "    pvalue = (1-fdist.cdf(fSN))\n",
    "else:\n",
    "    pvalue = fdist.cdf(fSN)\n",
    "    \n",
    "print (\"Pvalue = %0.3f\" % (pvalue))\n",
    "\n",
    "# Print table\n",
    "print()\n",
    "print (\"Source     df     Sum of Squares Mean Square     f     P-value\")\n",
    "print (\"Groups     %0.0f       %0.2f            %0.2f       %0.2f    %0.4f\" %(v_groups,SS_groups,MS_groups,fSN,pvalue))\n",
    "print (\"Error      %0.0f      %0.2f            %0.2f\" %(v_error,SS_error,MS_error))\n",
    "print (\"Total      %0.0f     %0.2f\" %(v_total,SS_total))\n",
    "\n",
    "# Reject the null hypothesis, there are significant differences between the means."
   ]
  },
  {
   "cell_type": "code",
   "execution_count": 75,
   "metadata": {},
   "outputs": [
    {
     "name": "stdout",
     "output_type": "stream",
     "text": [
      "SS_error = 479.48\n",
      "v_treatment = 2\n",
      "v_subjects = 19\n",
      "v_total = 59\n",
      "v_error = 38\n",
      "MS_treatment: 14.07\n",
      "MS_subjects: 155.39\n",
      "MS_error: 12.62\n",
      "F Signal/Noise Treatments = 1.12 \n",
      "F Signal/Noise Subjects = 12.31 \n",
      "Pvalue Treatment = 0.338\n",
      "\n",
      "Source     df     Sum of Squares      Mean Square     f     P-value\n",
      "Groups     2         28.14            14.07        1.12    0.3384\n",
      "Subjects   19       2952.38           155.39       12.31\n",
      "Error      38       479.48            12.62\n",
      "Total      59       3460.00\n"
     ]
    }
   ],
   "source": [
    "# question 7 (correct)\n",
    "\n",
    "SS_total = 3460.00\n",
    "SS_treatment = 28.14\n",
    "SS_subjects = 2952.38\n",
    "treatments = 3\n",
    "subjects = 20\n",
    "alpha = 0.05\n",
    "\n",
    "SS_error = SS_total - (SS_treatment + SS_subjects)\n",
    "print(\"SS_error = %0.2f\" % SS_error)\n",
    "\n",
    "v_treatment = treatments - 1\n",
    "v_subjects = subjects - 1\n",
    "print(\"v_treatment = %i\" % v_treatment)\n",
    "print(\"v_subjects = %i\" % v_subjects)\n",
    "\n",
    "N = treatments * subjects\n",
    "v_total = N - 1\n",
    "print(\"v_total = %i\" % v_total)\n",
    "\n",
    "v_error = v_total - v_treatment - v_subjects\n",
    "print(\"v_error = %i\" % v_error)\n",
    "\n",
    "MS_treatment = SS_treatment / v_treatment\n",
    "print(\"MS_treatment: %0.2f\" % MS_treatment)\n",
    "\n",
    "MS_subjects = SS_subjects / v_subjects\n",
    "print(\"MS_subjects: %0.2f\" % MS_subjects)\n",
    "\n",
    "MS_error = SS_error / v_error\n",
    "print(\"MS_error: %0.2f\" % MS_error)\n",
    "\n",
    "fSN_treatment = MS_treatment / MS_error\n",
    "print (\"F Signal/Noise Treatments = %0.2f \" % fSN_treatment)\n",
    "\n",
    "fSN_subjects = MS_subjects / MS_error\n",
    "print (\"F Signal/Noise Subjects = %0.2f \" % fSN_subjects)\n",
    "\n",
    "fdist_treatment = stats.f(v_treatment,v_error)\n",
    "\n",
    "if (fSN_treatment > 1):\n",
    "    pvalue_treatment = (1-fdist_treatment.cdf(fSN_treatment))\n",
    "else:\n",
    "    pvalue_treatment = fdist_treatment.cdf(fSN_treatment)\n",
    "    \n",
    "print (\"Pvalue Treatment = %0.3f\" % (pvalue_treatment))\n",
    "\n",
    "# Print table\n",
    "print()\n",
    "print (\"Source     df     Sum of Squares      Mean Square     f     P-value\")\n",
    "print (\"Groups     %0.0f         %0.2f            %0.2f        %0.2f     %0.4f\" %(v_treatment,SS_treatment,MS_treatment,fSN_treatment,pvalue_treatment))\n",
    "print (\"Subjects   %0.0f       %0.2f           %0.2f       %0.2f\" %(v_subjects,SS_subjects,MS_subjects,fSN_subjects))\n",
    "print (\"Error      %0.0f       %0.2f            %0.2f\" %(v_error,SS_error,MS_error))\n",
    "print (\"Total      %0.0f       %0.2f\" %(v_total,SS_total))\n",
    "\n",
    "# p-value is large --> Fail to reject the null hypothesis, there is no dependence in true average adaptation and the treatment given.\n",
    "# fSN_subjects is large --> Yes, fB is quite large, suggesting great variability between subjects."
   ]
  },
  {
   "cell_type": "code",
   "execution_count": 102,
   "metadata": {},
   "outputs": [
    {
     "name": "stdout",
     "output_type": "stream",
     "text": [
      "SS_ab = 45829.90\n",
      "v_a: 2, v_b: 3, v_ab: 6\n",
      "v_error: 24, v_total: 35\n",
      "\n",
      "a:\n",
      "F Signal/Noise = 3.75 \n",
      "Critical F-value = 3.40\n",
      "Pvalue = 0.038\n",
      "\n",
      "b:\n",
      "F Signal/Noise = 2.80 \n",
      "Critical F-value = 3.01\n",
      "Pvalue = 0.061\n",
      "\n",
      "ab:\n",
      "F Signal/Noise = 1.89 \n",
      "Critical F-value = 2.51\n",
      "Pvalue = 0.124\n",
      "-------------------------------\n",
      "Source     df     Sum of Squares Mean Square     f     P-value\n",
      "A          2       30255.50        15127.75     3.75    0.038\n",
      "B          3       33969.30        11323.10     2.80    0.061\n",
      "AB         6       45829.90        7638.32      1.89    0.124\n",
      "Error      24      96895.40        4037.31\n",
      "Total      35     206950.10\n"
     ]
    }
   ],
   "source": [
    "# question 8: ANOVA (correct)\n",
    "\n",
    "SS_a = 30255.5\n",
    "SS_b = 33969.3\n",
    "SS_error = 96895.4\n",
    "SS_total = 206950.1\n",
    "alpha = 0.05\n",
    "\n",
    "times = 3\n",
    "mixes = 4\n",
    "n = 3\n",
    "\n",
    "SS_ab = SS_total - (SS_a + SS_b + SS_error)\n",
    "print(\"SS_ab = %0.2f\" % SS_ab)\n",
    "\n",
    "N = times * mixes * n\n",
    "v_total = N - 1\n",
    "v_a = times - 1\n",
    "v_b = mixes - 1\n",
    "v_ab = (times - 1)*(mixes - 1)\n",
    "v_treatment = v_a + v_b + v_ab\n",
    "v_error = v_total - v_treatment\n",
    "\n",
    "print(\"v_a: %i, v_b: %i, v_ab: %i\" % (v_a, v_b, v_ab))\n",
    "print(\"v_error: %i, v_total: %i\" % (v_error, v_total))\n",
    "\n",
    "MS_a = SS_a / v_a\n",
    "MS_b = SS_b / v_b\n",
    "MS_ab = SS_ab / v_ab\n",
    "MS_error = SS_error / v_error\n",
    "\n",
    "fSN_a = MS_a / MS_error\n",
    "fSN_b = MS_b / MS_error\n",
    "fSN_ab = MS_ab / MS_error\n",
    "\n",
    "print(\"\\na:\")\n",
    "(fSN_a, pvalue_a) = fpcalc(MS_a,MS_error,v_a,v_error,alpha)\n",
    "\n",
    "print(\"\\nb:\")\n",
    "(fSN_b, pvalue_b) = fpcalc(MS_b,MS_error,v_b,v_error,alpha)\n",
    "\n",
    "print(\"\\nab:\")\n",
    "(fSN_ab, pvalue_ab) = fpcalc(MS_ab,MS_error,v_ab,v_error,alpha)\n",
    "\n",
    "# Print table\n",
    "print(\"-------------------------------\")\n",
    "print (\"Source     df     Sum of Squares Mean Square     f     P-value\")\n",
    "print (\"A          %0.0f       %0.2f        %0.2f     %0.2f    %0.3f\" %(v_a,SS_a,MS_a,fSN_a,pvalue_a))\n",
    "print (\"B          %0.0f       %0.2f        %0.2f     %0.2f    %0.3f\" %(v_b,SS_b,MS_b,fSN_b,pvalue_b))\n",
    "print (\"AB         %0.0f       %0.2f        %0.2f      %0.2f    %0.3f\" %(v_ab,SS_ab,MS_ab,fSN_ab,pvalue_ab))\n",
    "print (\"Error      %0.0f      %0.2f        %0.2f\" %(v_error,SS_error,MS_error))\n",
    "print (\"Total      %0.0f     %0.2f\" %(v_total,SS_total))\n",
    "\n",
    "# A has an effect, B and AB do not"
   ]
  },
  {
   "cell_type": "code",
   "execution_count": 126,
   "metadata": {
    "scrolled": true
   },
   "outputs": [
    {
     "name": "stdout",
     "output_type": "stream",
     "text": [
      "Standard Error = 18.342\n",
      "Original Xbar =  [4010.88, 4029.1, 3960.02]\n",
      "Sorted Xbar =  [3960.02, 4010.88, 4029.1]\n",
      "q_tukey: calculating k =  2\n",
      "q_critical =  2.9058174025748973\n",
      "q_tukey: calculating k =  3\n",
      "q_critical =  3.5302035366602835\n",
      "[2.9058174  3.53020354]\n",
      "W = 64.75\n",
      "[4010.88, 4029.1, 3960.02]\n",
      "i j xbar1 xbar2 Diff Diff_comp Result\n",
      "3 1 3960.0 4010.9 2.773  2.906 No\n",
      "3 2 3960.0 4029.1 3.766  3.530 Yes\n",
      "1 2 4010.9 4029.1 0.993  2.906 No\n"
     ]
    },
    {
     "data": {
      "image/png": "[encoded data removed]",
      "text/plain": [
       "<Figure size 432x288 with 1 Axes>"
      ]
     },
     "metadata": {
      "needs_background": "light"
     },
     "output_type": "display_data"
    }
   ],
   "source": [
    "# question 8: tukey's procedure (correct)\n",
    "xbar = [4010.88, 4029.10, 3960.02]\n",
    "tukey_calc(xbar,MS_error,mixes*n,v_error,alpha)"
   ]
  },
  {
   "cell_type": "code",
   "execution_count": 153,
   "metadata": {},
   "outputs": [
    {
     "name": "stdout",
     "output_type": "stream",
     "text": [
      "             df        sum_sq       mean_sq       F        PR(>F)\n",
      "C(A)        1.0  13338.888889  13338.888889  192.08  9.568328e-09\n",
      "C(B)        2.0   1244.444444    622.222222    8.96  4.162152e-03\n",
      "C(A):C(B)   2.0     44.444444     22.222222    0.32  7.321584e-01\n",
      "Residual   12.0    833.333333     69.444444     NaN           NaN\n"
     ]
    }
   ],
   "source": [
    "# question 9: ANOVA (correct)\n",
    "\n",
    "data = np.array([[280,1,1],[290,1,1],[285,1,1],\n",
    "                 [300,1,2],[310,1,2],[295,1,2],\n",
    "                 [270,1,3],[285,1,3],[290,1,3],\n",
    "                 [230,2,1],[235,2,1],[240,2,1],\n",
    "                 [260,2,2],[240,2,2],[235,2,2],\n",
    "                 [220,2,3],[225,2,3],[230,2,3]])\n",
    "\n",
    "df = pd.DataFrame(data, columns=['value','A','B'])\n",
    "\n",
    "formula = 'value ~ C(A) + C(B) + C(A):C(B)'\n",
    "lm = ols(formula,df).fit()\n",
    "anovaResults = anova_lm(lm)\n",
    "print (anovaResults)"
   ]
  },
  {
   "cell_type": "code",
   "execution_count": 158,
   "metadata": {},
   "outputs": [
    {
     "name": "stdout",
     "output_type": "stream",
     "text": [
      "ab:\n",
      "F Signal/Noise = 0.32 \n",
      "Critical F-value = 6.93\n",
      "Pvalue = 0.268\n",
      "\n",
      "a:\n",
      "F Signal/Noise = 192.08 \n",
      "Critical F-value = 9.33\n",
      "Pvalue = 0.000\n",
      "\n",
      "b:\n",
      "F Signal/Noise = 8.96 \n",
      "Critical F-value = 6.93\n",
      "Pvalue = 0.004\n"
     ]
    },
    {
     "data": {
      "text/plain": [
       "(8.960000054144, 0.0041621519548364905)"
      ]
     },
     "execution_count": 158,
     "metadata": {},
     "output_type": "execute_result"
    }
   ],
   "source": [
    "# question 9: Fvalues (correct)\n",
    "\n",
    "alpha = 0.01\n",
    "MS_a = 13338.888889\n",
    "MS_b = 622.222222   \n",
    "MS_ab = 22.222222\n",
    "MS_error = 69.444444\n",
    "v_a = 1\n",
    "v_b = 2\n",
    "\n",
    "v_ab = v_a * v_b\n",
    "v_error = 14 - v_ab\n",
    "\n",
    "# fpcalc(MS_treatment,MS_error,dof_treatment,dof_error,alpha)\n",
    "\n",
    "print(\"ab:\")\n",
    "fpcalc(MS_ab, MS_error, v_ab, v_error, alpha)\n",
    "# Fab < critical_Fab --> Fail to reject the null hypothesis, there does not appear to be interaction effects.\n",
    "\n",
    "print(\"\\na:\")\n",
    "fpcalc(MS_a, MS_error, v_a, v_error, alpha)\n",
    "# Fa > critical_Fa --> Reject the null hypothesis, there appears to be a glass type effect.\n",
    "\n",
    "print(\"\\nb:\")\n",
    "fpcalc(MS_b, MS_error, v_b, v_error, alpha)\n",
    "# Fb > critical_Fb --> Reject the null hypothesis, there appears to be a phosphor type effect."
   ]
  },
  {
   "cell_type": "code",
   "execution_count": null,
   "metadata": {},
   "outputs": [],
   "source": []
  }
 ],
 "metadata": {
  "kernelspec": {
   "display_name": "Python 3",
   "language": "python",
   "name": "python3"
  },
  "language_info": {
   "codemirror_mode": {
    "name": "ipython",
    "version": 3
   },
   "file_extension": ".py",
   "mimetype": "text/x-python",
   "name": "python",
   "nbconvert_exporter": "python",
   "pygments_lexer": "ipython3",
   "version": "3.8.5"
  }
 },
 "nbformat": 4,
 "nbformat_minor": 4
}
