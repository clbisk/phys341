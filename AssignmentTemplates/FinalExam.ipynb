{
 "cells": [
  {
   "cell_type": "code",
   "execution_count": 3,
   "metadata": {},
   "outputs": [
    {
     "name": "stdout",
     "output_type": "stream",
     "text": [
      "1) 0.9986501019683699\n"
     ]
    }
   ],
   "source": [
    "from final_exam_first_cell import *\n",
    "\n",
    "# question 1 (still incorrect)\n",
    "three_dead_phones = stats.norm.cdf(3)\n",
    "print(\"1)\", three_dead_phones)"
   ]
  },
  {
   "cell_type": "code",
   "execution_count": 15,
   "metadata": {},
   "outputs": [
    {
     "name": "stdout",
     "output_type": "stream",
     "text": [
      "2a) 0.17\n"
     ]
    }
   ],
   "source": [
    "# question 2 (still incorrect)\n",
    "sigma = 10\n",
    "H0 = 74\n",
    "n = 25\n",
    "\n",
    "sd_below_mean = (74 - 72.3) / 10\n",
    "print(\"2a) %0.2f\" % sd_below_mean)"
   ]
  },
  {
   "cell_type": "code",
   "execution_count": 13,
   "metadata": {},
   "outputs": [
    {
     "name": "stdout",
     "output_type": "stream",
     "text": [
      "3) 0.807, 0.953\n"
     ]
    }
   ],
   "source": [
    "# question 3 (correct)\n",
    "n = 115\n",
    "ndof = n - 1\n",
    "x_bar = 0.88\n",
    "S = 0.30\n",
    "sem = S / np.sqrt(n)\n",
    "CI = 0.99\n",
    "alpha = 1 - CI\n",
    "\n",
    "critical_values = stats.t.interval(CI, ndof, loc=x_bar, scale=sem)\n",
    "print(\"3) %0.3f, %0.3f\" % critical_values)"
   ]
  },
  {
   "cell_type": "code",
   "execution_count": 18,
   "metadata": {},
   "outputs": [
    {
     "name": "stdout",
     "output_type": "stream",
     "text": [
      "4a) 0.088\n",
      "4b) 0.086\n"
     ]
    }
   ],
   "source": [
    "# question 4 (still incorrect)\n",
    "n = 100\n",
    "x_bar_a = 50\n",
    "S = 0.9\n",
    "ndof = n - 1\n",
    "\n",
    "prob_a = stats.t.cdf(50.1, ndof, x_bar_a, S) - stats.t.cdf(49.9, ndof, x_bar_a, S)\n",
    "print(\"4a) %0.3f\" % prob_a)\n",
    "\n",
    "x_bar_b = 49.8\n",
    "prob_b = stats.t.cdf(50.1, ndof, x_bar_b, S) - stats.t.cdf(49.9, ndof, x_bar_b, S)\n",
    "print(\"4b) %0.3f\" % prob_b)"
   ]
  },
  {
   "cell_type": "code",
   "execution_count": null,
   "metadata": {},
   "outputs": [],
   "source": [
    "# question 5..."
   ]
  },
  {
   "cell_type": "code",
   "execution_count": 45,
   "metadata": {},
   "outputs": [
    {
     "name": "stdout",
     "output_type": "stream",
     "text": [
      "v_groups: 2.00\n",
      "v_error: 70.00, v_total: 72.00\n",
      "SS_groups 152.52\n",
      "SS_error 972.07\n",
      "MS_error 13.89\n",
      "F Signal/Noise = 5.49 \n",
      "Pvalue = 0.006\n",
      "\n",
      "Source     df     Sum of Squares Mean Square     f     P-value\n",
      "Groups     2       152.52            76.26       5.49    0.0061\n",
      "Error      70      972.07            13.89\n",
      "Total      72     1124.59\n"
     ]
    }
   ],
   "source": [
    "# question 6 (correct)\n",
    "\n",
    "depressive = 21\n",
    "other = 27\n",
    "brain_damaged = 25\n",
    "groups = 3\n",
    "SS_total = 1124.59\n",
    "MS_groups = 76.26\n",
    "alpha = 0.01\n",
    "\n",
    "N = depressive + other + brain_damaged\n",
    "\n",
    "v_total = N - 1\n",
    "v_depressive = depressive - 1\n",
    "v_brain_damaged = brain_damaged - 1\n",
    "v_other = other - 1\n",
    "v_treatment = N - 3\n",
    "v_groups = groups - 1\n",
    "v_error = v_total - v_groups\n",
    "\n",
    "print(\"v_groups: %0.2f\" % (v_groups))\n",
    "print(\"v_error: %0.2f, v_total: %0.2f\" % (v_error, v_total))\n",
    "\n",
    "SS_groups = MS_groups * v_groups\n",
    "print(\"SS_groups %0.2f\" % SS_groups)\n",
    "\n",
    "SS_error = SS_total - SS_groups\n",
    "print(\"SS_error %0.2f\" % SS_error)\n",
    "\n",
    "MS_error = SS_error / v_error\n",
    "print(\"MS_error %0.2f\" % MS_error)\n",
    "\n",
    "fSN = MS_groups / MS_error\n",
    "print (\"F Signal/Noise = %0.2f \" % fSN)\n",
    "\n",
    "fdist = stats.f(v_groups,v_error)\n",
    "\n",
    "if (fSN > 1):\n",
    "    pvalue = (1-fdist.cdf(fSN))\n",
    "else:\n",
    "    pvalue = fdist.cdf(fSN)\n",
    "    \n",
    "print (\"Pvalue = %0.3f\" % (pvalue))\n",
    "\n",
    "# Print table\n",
    "print()\n",
    "print (\"Source     df     Sum of Squares Mean Square     f     P-value\")\n",
    "print (\"Groups     %0.0f       %0.2f            %0.2f       %0.2f    %0.4f\" %(v_groups,SS_groups,MS_groups,fSN,pvalue))\n",
    "print (\"Error      %0.0f      %0.2f            %0.2f\" %(v_error,SS_error,MS_error))\n",
    "print (\"Total      %0.0f     %0.2f\" %(v_total,SS_total))\n",
    "\n",
    "# Reject the null hypothesis, there are significant differences between the means."
   ]
  },
  {
   "cell_type": "code",
   "execution_count": null,
   "metadata": {},
   "outputs": [],
   "source": []
  },
  {
   "cell_type": "code",
   "execution_count": null,
   "metadata": {},
   "outputs": [],
   "source": []
  }
 ],
 "metadata": {
  "kernelspec": {
   "display_name": "Python 3",
   "language": "python",
   "name": "python3"
  },
  "language_info": {
   "codemirror_mode": {
    "name": "ipython",
    "version": 3
   },
   "file_extension": ".py",
   "mimetype": "text/x-python",
   "name": "python",
   "nbconvert_exporter": "python",
   "pygments_lexer": "ipython3",
   "version": "3.8.5"
  }
 },
 "nbformat": 4,
 "nbformat_minor": 4
}
