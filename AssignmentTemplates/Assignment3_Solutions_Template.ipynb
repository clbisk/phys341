{
 "cells": [
  {
   "cell_type": "markdown",
   "metadata": {},
   "source": [
    "# Assignment 3 Solutions"
   ]
  },
  {
   "cell_type": "markdown",
   "metadata": {},
   "source": [
    "# Question 1\n",
    "\n",
    "Determine the values of the following quantities. (Give answers accurate to 2 decimal places.)\n",
    "\n",
    "(a) t(.10,11)   \n",
    "\n",
    "(b) t(.05,11)      \n",
    "\n",
    "(c) t(.05,28)   \n",
    "\n",
    "(d) t(.05,40)    \n",
    "\n",
    "(e) t(.005,40)   "
   ]
  },
  {
   "cell_type": "markdown",
   "metadata": {},
   "source": [
    "The t-distribution that WebAssign uses is known as a \"one-tailed t-distribution\". Thus, the specified probability ($\\alpha$) lies in a single tail, ABOVE the upper critical t-value.  The \"answer\" that WebAssign is looking for here is the upper critical t-value (which is positive)."
   ]
  },
  {
   "cell_type": "code",
   "execution_count": 5,
   "metadata": {},
   "outputs": [
    {
     "name": "stdout",
     "output_type": "stream",
     "text": [
      "(a) 1.3634303180205214\n",
      "(b) 1.7958848187036691\n",
      "(c) 1.701130934265931\n",
      "(d) 1.68385101138658\n",
      "(e) 2.7044592674331502\n"
     ]
    }
   ],
   "source": [
    "import scipy.stats as stats\n",
    "import numpy as np\n",
    "\n",
    "print(\"(a)\", stats.t.ppf(1 - .1, 11))\n",
    "print(\"(b)\", stats.t.ppf(1 - .05, 11))\n",
    "print(\"(c)\", stats.t.ppf(1 - .05, 28))\n",
    "print(\"(d)\", stats.t.ppf(1 - .05, 40))\n",
    "print(\"(e)\", stats.t.ppf(1 - .005, 40))"
   ]
  },
  {
   "cell_type": "markdown",
   "metadata": {},
   "source": [
    "# Question 2\n",
    "\n",
    "Determine the t critical value(s) that will capture the desired t-curve area in each of the following cases. (Assume that central areas are centered at t = 0. Round your answers to three decimal places.)\n",
    "\n",
    "(a) Central area = 0.95, df = 15\n",
    "\n",
    "(b) Central area = 0.95, df = 30 \n",
    "\n",
    "(c) Central area = 0.99, df = 30\n",
    "\n",
    "(d) Central area = 0.99, df = 60\n",
    "\n",
    "(e) Upper-tail area = 0.01, df = 25\n",
    "\n",
    "(f) Lower-tail area = 0.025, df = 10"
   ]
  },
  {
   "cell_type": "code",
   "execution_count": 6,
   "metadata": {},
   "outputs": [
    {
     "name": "stdout",
     "output_type": "stream",
     "text": [
      "(a) 2.131449545559323\n",
      "(b) 2.0422724563012373\n",
      "(c) 2.7499956535670305\n",
      "(d) 2.6602830311506858\n",
      "(e) 2.4851071754106413\n",
      "(f) -2.2281388519649385\n"
     ]
    }
   ],
   "source": [
    "alpha_a = 1 - 0.95\n",
    "print(\"(a)\", stats.t.ppf(1 - alpha_a/2, 15))\n",
    "alpha_b = 1 - 0.95\n",
    "print(\"(b)\", stats.t.ppf(1 - alpha_b/2, 30))\n",
    "alpha_c = 1 - 0.99\n",
    "print(\"(c)\", stats.t.ppf(1 - alpha_c/2, 30))\n",
    "alpha_d = 1 - 0.99\n",
    "print(\"(d)\", stats.t.ppf(1 - alpha_d/2, 60))\n",
    "print(\"(e)\", stats.t.ppf(1 - .01, 25))\n",
    "print(\"(f)\", stats.t.ppf(.025, 10))"
   ]
  },
  {
   "cell_type": "markdown",
   "metadata": {},
   "source": [
    "# Question 3\n",
    "\n",
    "Determine the t critical value for a two-sided confidence interval in each of the following situations. (Give answers accurate to 3 decimal places.)\n",
    "\n",
    "(a) Confidence level = 95%, df = 7\n",
    "\n",
    "(b) Confidence level = 95%, df = 30\n",
    "\n",
    "(c) Confidence level = 99%, df = 30 \n",
    "\n",
    "(d) Confidence level = 99%, n = 9\n",
    "\n",
    "(e) Confidence level = 98%, df = 32\n",
    "\n",
    "(f) Confidence level = 99%, n = 35"
   ]
  },
  {
   "cell_type": "code",
   "execution_count": 8,
   "metadata": {},
   "outputs": [
    {
     "name": "stdout",
     "output_type": "stream",
     "text": [
      "(a) 2.3646242510102993\n",
      "(b) 2.0422724563012373\n",
      "(c) 2.7499956535670305\n",
      "(d) 3.3553873313333957\n",
      "(e) 2.44867763367204\n",
      "(f) 2.7283943670706616\n"
     ]
    }
   ],
   "source": [
    "alpha_a_b = 1 - .95\n",
    "print(\"(a)\", stats.t.ppf(1 - alpha_a_b/2, 7))\n",
    "print(\"(b)\", stats.t.ppf(1 - alpha_a_b/2, 30))\n",
    "alpha_c_d_f = 1 - .99\n",
    "print(\"(c)\", stats.t.ppf(1 - alpha_c_d_f/2, 30))\n",
    "print(\"(d)\", stats.t.ppf(1 - alpha_c_d_f/2, 9 - 1))\n",
    "alpha_e = 1 - .98\n",
    "print(\"(e)\", stats.t.ppf(1 - alpha_e/2, 32))\n",
    "print(\"(f)\", stats.t.ppf(1 - alpha_c_d_f/2, 35 - 1))"
   ]
  },
  {
   "cell_type": "markdown",
   "metadata": {},
   "source": [
    "# Question 4\n",
    "\n",
    "A random sample of n = 8 E-glass fiber test specimens of a certain type yielded a sample mean interfacial shear yield stress of 28.8 and a sample standard deviation of 3.2. Assuming that interfacial shear yield stress is normally distributed, compute a 95% CI for true average stress. (Give answer accurate to 2 decimal places.) "
   ]
  },
  {
   "cell_type": "code",
   "execution_count": 20,
   "metadata": {},
   "outputs": [
    {
     "name": "stdout",
     "output_type": "stream",
     "text": [
      "(26.12, 31.48)\n"
     ]
    }
   ],
   "source": [
    "ndof = 8 - 1\n",
    "alpha = 1 - .95\n",
    "sem = 3.2 / np.sqrt(8)\n",
    "critical_values = stats.t.interval(0.95, ndof, loc=28.8, scale=sem)\n",
    "\n",
    "print(\"(%0.2f, %0.2f)\" % critical_values)"
   ]
  },
  {
   "cell_type": "markdown",
   "metadata": {},
   "source": [
    "# Question 5\n",
    "\n",
    "A sample of 14 joint specimens of a particular type gave a sample mean proportional limit stress of 8.56 MPa and a sample standard deviation of 0.65 MPa.\n",
    "\n",
    "(a) Calculate a 95% lower confidence bound for the true average proportional limit stress of all such joints. (Give answer accurate to 2 decimal places.)\n",
    "   \n",
    "\n",
    "(b) Calculate a 95% lower prediction bound for proportional limit stress of a single joint of this type. (Give answer accurate to 2 decimal places.)\n",
    "   "
   ]
  },
  {
   "cell_type": "code",
   "execution_count": 28,
   "metadata": {},
   "outputs": [
    {
     "name": "stdout",
     "output_type": "stream",
     "text": [
      "(a) 8.25\n",
      "(b) 7.37\n"
     ]
    }
   ],
   "source": [
    "n = 14\n",
    "ndof = n - 1\n",
    "x_bar = 8.56\n",
    "S = 0.65\n",
    "sem = S / np.sqrt(n)\n",
    "alpha = 1 - 0.95\n",
    "CI = 1 - 2 * alpha\n",
    "\n",
    "critical_values = stats.t.interval(CI, ndof, loc=x_bar, scale=sem)\n",
    "print(\"(a) %0.2f\" % critical_values[0])\n",
    "# With 95% confidence, the value of the true mean propoertional limit stress of all such joints is greater than this value.\n",
    "# We must assume that the sample observations were taken from a normally distributed population.\n",
    "\n",
    "# taking a sample of a single joint will add one to n so we have to change S\n",
    "S_future = S * np.sqrt( (n+1) / n )\n",
    "lower_prediction_bound = stats.t.ppf(alpha, ndof, x_bar, S_future)\n",
    "print(\"(b) %0.2f\" % lower_prediction_bound)\n",
    "# If this bound is calculated for sample after sample, in the long run 95% of these bounds will provide a lower bound for the corresponding future values of the proportional limit stress of a single joint of this type."
   ]
  },
  {
   "cell_type": "markdown",
   "metadata": {},
   "source": [
    "# Question 6\n",
    "\n",
    "Silicone implant augmentation rhinoplasty is used to correct congenital nose deformities. The success of the procedure depends on various biomechanical properties of the human nasal periosteum and fascia. An article reported that for a sample of 18 (newly deceased) adults, the mean failure strain (%) was 26.5, and the standard deviation was 3.\n",
    "\n",
    "(a) Assuming a normal distribution for failure strain, estimate true average strain in a way that conveys information about precision and reliability. (Use a 98% confidence interval. Give answer accurate to 1 decimal place.)\n",
    "\n",
    "\n",
    "(b) Predict the strain for a single adult in a way that conveys information about precision and reliability. (Use a 98% prediction interval. Give answer accurate to 1 decimal place.)\n",
    "\n",
    "How does the prediction compare to the estimate calculated in part (a)?"
   ]
  },
  {
   "cell_type": "code",
   "execution_count": 35,
   "metadata": {},
   "outputs": [
    {
     "name": "stdout",
     "output_type": "stream",
     "text": [
      "(a) (24.7, 28.3)\n",
      "(b) (18.6, 34.4)\n"
     ]
    }
   ],
   "source": [
    "x_bar = 26.5\n",
    "S = 3\n",
    "n = 18\n",
    "sem = S / np.sqrt(n)\n",
    "ndof = n - 1\n",
    "\n",
    "print(\"(a) (%0.1f, %0.1f)\" % stats.t.interval(.98, ndof, x_bar, sem))\n",
    "\n",
    "# taking a sample of a single adult will add one to n so we have to change S\n",
    "S_future = S * np.sqrt( (n+1) / n )\n",
    "alpha = 1 - .98\n",
    "\n",
    "lower_prediction_bound = stats.t.ppf(alpha/2, ndof, x_bar, S_future)\n",
    "upper_prediction_bound = stats.t.ppf(1 - alpha/2, ndof, x_bar, S_future)\n",
    "print(\"(b) (%0.1f, %0.1f)\" % (lower_prediction_bound, upper_prediction_bound))\n",
    "# The prediction interval is much wider than the interval in part (a)."
   ]
  },
  {
   "cell_type": "markdown",
   "metadata": {},
   "source": [
    "# Question 7\n",
    "Determine the following.\n",
    "(a) The 99th percentile of the chi-squared distribution with v = 15. (Give answer accurate to 2 decimal places.)\n",
    "\n",
    "(b) The 5th percentile of the chi-squared distribution with v = 9. (Give answer accurate to 2 decimal places.) \n",
    "\n",
    "(c) P(14.95 <= χ2 <= 53.67), where χ2 is a chi-squared rv with v = 30. (Give answer accurate to 3 decimal places.) \n",
    "\n",
    "(d) P(χ2 < 16.151 or χ2 > 49.645), where χ2 is a chi-squared rv with v = 27. (Give answer accurate to 3 decimal places.)"
   ]
  },
  {
   "cell_type": "code",
   "execution_count": 43,
   "metadata": {},
   "outputs": [
    {
     "name": "stdout",
     "output_type": "stream",
     "text": [
      "(a) 30.58\n",
      "(b) 3.33\n",
      "(c) 0.985\n",
      "(d) 0.055\n"
     ]
    }
   ],
   "source": [
    "print(\"(a) %0.2f\" % stats.chi2.ppf(.99, 15))\n",
    "print(\"(b) %0.2f\" % stats.chi2.ppf(.05, 9))\n",
    "print(\"(c) %0.3f\" % (stats.chi2.cdf(53.67, 30) - stats.chi2.cdf(14.95, 30)))\n",
    "print(\"(d) %0.3f\" % (1 - (stats.chi2.cdf(49.645, 27) - stats.chi2.cdf(16.151, 27))))"
   ]
  },
  {
   "cell_type": "markdown",
   "metadata": {},
   "source": [
    "# Question 8\n",
    "\n",
    "The amount of lateral expansion (mils) was determined for a sample of n = 7 pulsed-power gas metal arc welds used in LNG ship containment tanks. The resulting sample standard deviation was s = 2.86 mils. Assuming normality, derive a 95% CI for σ2 and for σ. (Round your answers to two decimal places.) \n",
    "\n",
    "\n",
    "Recall the definition of $\\chi^2 = \\frac{(n-1)s^2}{\\sigma^2}$. Therefore, to find the CI for $\\sigma^2$, we can use that:\n",
    "\n",
    "$\\sigma^2 = \\frac{(n-1)s^2}{\\chi^2}$\n",
    "\n",
    "and thus use the confidence interval for $\\chi^2$."
   ]
  },
  {
   "cell_type": "code",
   "execution_count": 50,
   "metadata": {},
   "outputs": [
    {
     "name": "stdout",
     "output_type": "stream",
     "text": [
      "(a) (3.40, 39.66)\n",
      "(b) (1.84, 6.30)\n"
     ]
    }
   ],
   "source": [
    "n = 7\n",
    "S = 2.86\n",
    "CI = .95\n",
    "ndof = n - 1\n",
    "\n",
    "CI_bounds = stats.chi2.interval(CI, ndof)\n",
    "\n",
    "sigma2_low = ((n - 1) * S**2) / CI_bounds[1]\n",
    "sigma2_high = ((n - 1) * S**2) / CI_bounds[0]\n",
    "print(\"(a) (%0.2f, %0.2f)\" % (sigma2_low, sigma2_high))\n",
    "print(\"(b) (%0.2f, %0.2f)\" % (np.sqrt(sigma2_low), np.sqrt(sigma2_high)))"
   ]
  },
  {
   "cell_type": "markdown",
   "metadata": {},
   "source": [
    "# Question 9\n",
    "\n",
    "The following observations were made on fracture toughness of a base plate of 18% nickel maraging steel (in ksi √in., given in increasing order)].\n",
    "\n",
    "69.4\t71.9\t72.6\t73.1\t73.3\t73.5\t75.5\t75.7\t75.8\t76.1\t76.2\n",
    "\n",
    "76.2\t77.0\t77.9\t78.1\t79.6\t79.8\t79.9\t80.1\t82.2\t83.7\t94.3\n",
    "\n",
    "Calculate a 99% CI for the standard deviation of the fracture toughness distribution. (Give answer accurate to 2 decimal places.) "
   ]
  },
  {
   "cell_type": "code",
   "execution_count": 52,
   "metadata": {},
   "outputs": [],
   "source": [
    "toughness = np.array([69.4,71.9,72.6,73.1,73.3,73.5,75.5,75.7,75.8,76.1,76.2,76.2,77.0,77.9,78.1,79.6,79.8,79.9,80.1,82.2,83.7,94.3])"
   ]
  },
  {
   "cell_type": "code",
   "execution_count": 62,
   "metadata": {},
   "outputs": [
    {
     "name": "stdout",
     "output_type": "stream",
     "text": [
      "(3.66, 8.31)\n"
     ]
    }
   ],
   "source": [
    "n = len(toughness)\n",
    "ndof = n - 1\n",
    "CI = 0.99\n",
    "S = data.std(ddof = 1)\n",
    "\n",
    "chi2_bounds = stats.chi2.interval(CI, ndof)\n",
    "sigma2_low = ((n - 1) * S**2) / chi2_bounds[1]\n",
    "sigma2_high = ((n - 1) * S**2) / chi2_bounds[0]\n",
    "\n",
    "print(\"(%0.2f, %0.2f)\" % (np.sqrt(sigma2_low), np.sqrt(sigma2_high)))\n",
    "# The distribution needs to be approximately normal."
   ]
  },
  {
   "cell_type": "markdown",
   "metadata": {},
   "source": [
    "# Question 10\n",
    "\n",
    "On the basis of extensive tests, the yield point of a particular type of mild steel-reinforcing bar is known to be normally distributed with σ = 100. The composition of the bar has been slightly modified, but the modification is not believed to have affected either the normality or the value of σ.\n",
    "\n",
    "(a) Assuming this to be the case, if a sample of 25 modified bars resulted in a sample average yield point of 8977 lb, compute a 90% CI for the true average yield point of the modified bar. (Round to the nearest integer.)\n",
    "\n",
    "(b) How would you modify the interval in part (a) to obtain a confidence level of 94%? (Give answer accurate to 2 decimal places.)\n",
    "\n",
    " $\\chi^2 = \\frac{(n-1)s^2}{\\sigma^2}$"
   ]
  },
  {
   "cell_type": "code",
   "execution_count": 71,
   "metadata": {},
   "outputs": [
    {
     "name": "stdout",
     "output_type": "stream",
     "text": [
      "(8944, 9010)\n"
     ]
    }
   ],
   "source": [
    "# sigma = sqrt( ((n - 1) * S ** 2) / chi2 )\n",
    "# simga**2 * chi2 **2 = (n - 1) * S**2\n",
    "# simga**2 * chi2 **2 / (n - 1) = S**2\n",
    "# S = sqrt( simga**2 * chi2 **2 / (n - 1) )\n",
    "\n",
    "n = 25\n",
    "ndof = n - 1\n",
    "x_bar = 8977\n",
    "sigma = 100\n",
    "CI = 0.9\n",
    "alpha = 1 - CI\n",
    "sem = sigma / np.sqrt(n)\n",
    "\n",
    "CI_bounds = stats.norm.interval(CI, x_bar, sem)\n",
    "\n",
    "print(\"(%0.0f, %0.0f)\" % CI_bounds)"
   ]
  },
  {
   "cell_type": "code",
   "execution_count": 76,
   "metadata": {},
   "outputs": [
    {
     "name": "stdout",
     "output_type": "stream",
     "text": [
      "(8939.384127836975, 9014.615872163025)\n",
      "1.88\n"
     ]
    }
   ],
   "source": [
    "# to get a confidence level of 94%, the value of z* should be changed to\n",
    "CI = .94\n",
    "alpha = 1 - CI\n",
    "CI_bounds = stats.norm.interval(CI, x_bar, sem)\n",
    "print(CI_bounds)\n",
    "\n",
    "z_star = stats.norm.ppf(1 - alpha/2, 0, 1)\n",
    "\n",
    "print(\"%0.2f\" % z_star)"
   ]
  },
  {
   "cell_type": "code",
   "execution_count": null,
   "metadata": {},
   "outputs": [],
   "source": []
  }
 ],
 "metadata": {
  "kernelspec": {
   "display_name": "Python 3",
   "language": "python",
   "name": "python3"
  },
  "language_info": {
   "codemirror_mode": {
    "name": "ipython",
    "version": 3
   },
   "file_extension": ".py",
   "mimetype": "text/x-python",
   "name": "python",
   "nbconvert_exporter": "python",
   "pygments_lexer": "ipython3",
   "version": "3.8.5"
  }
 },
 "nbformat": 4,
 "nbformat_minor": 2
}
